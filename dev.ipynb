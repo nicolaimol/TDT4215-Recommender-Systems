{
 "cells": [
  {
   "cell_type": "code",
   "execution_count": 21,
   "id": "2df85cb9",
   "metadata": {},
   "outputs": [],
   "source": [
    "import os\n",
    "import json\n",
    "import pandas as pd"
   ]
  },
  {
   "cell_type": "code",
   "execution_count": 22,
   "id": "ddf72a2b",
   "metadata": {},
   "outputs": [],
   "source": [
    "def load_data(path):\n",
    "    \"\"\"\n",
    "        Load events from files and convert to dataframe.\n",
    "    \"\"\"\n",
    "    map_lst=[]\n",
    "    for f in os.listdir(path):\n",
    "        file_name=os.path.join(path,f)\n",
    "        if os.path.isfile(file_name):\n",
    "            for line in open(file_name):\n",
    "                obj = json.loads(line.strip())\n",
    "                if not obj is None:\n",
    "                    map_lst.append(obj)\n",
    "    return pd.DataFrame(map_lst) "
   ]
  },
  {
   "cell_type": "code",
   "execution_count": 23,
   "id": "abe34cba",
   "metadata": {},
   "outputs": [],
   "source": [
    "df = load_data(\"active1000\")"
   ]
  },
  {
   "cell_type": "code",
   "execution_count": 26,
   "id": "2ecd0d0b",
   "metadata": {},
   "outputs": [
    {
     "data": {
      "text/html": [
       "<div>\n",
       "<style scoped>\n",
       "    .dataframe tbody tr th:only-of-type {\n",
       "        vertical-align: middle;\n",
       "    }\n",
       "\n",
       "    .dataframe tbody tr th {\n",
       "        vertical-align: top;\n",
       "    }\n",
       "\n",
       "    .dataframe thead th {\n",
       "        text-align: right;\n",
       "    }\n",
       "</style>\n",
       "<table border=\"1\" class=\"dataframe\">\n",
       "  <thead>\n",
       "    <tr style=\"text-align: right;\">\n",
       "      <th></th>\n",
       "      <th>eventId</th>\n",
       "      <th>category</th>\n",
       "      <th>activeTime</th>\n",
       "      <th>title</th>\n",
       "      <th>url</th>\n",
       "      <th>userId</th>\n",
       "      <th>publishtime</th>\n",
       "      <th>time</th>\n",
       "      <th>documentId</th>\n",
       "    </tr>\n",
       "  </thead>\n",
       "  <tbody>\n",
       "    <tr>\n",
       "      <th>1</th>\n",
       "      <td>88128149</td>\n",
       "      <td>nyheter|trondheim</td>\n",
       "      <td>NaN</td>\n",
       "      <td>Dette er «Kystad-saken» i korte trekk - og sak...</td>\n",
       "      <td>http://adressa.no/nyheter/trondheim/2017/03/17...</td>\n",
       "      <td>cx:13675964253951224092221:1wgstmuzo9vjl</td>\n",
       "      <td>2017-03-17T17:39:35.000Z</td>\n",
       "      <td>1490050820</td>\n",
       "      <td>ff9704d73150a5f14bbad454f4f6e0f252f49521</td>\n",
       "    </tr>\n",
       "    <tr>\n",
       "      <th>7</th>\n",
       "      <td>1470946317</td>\n",
       "      <td>nyheter|okonomi</td>\n",
       "      <td>34.0</td>\n",
       "      <td>Han er verdens tredje yngste dollarmilliardær</td>\n",
       "      <td>http://adressa.no/nyheter/okonomi/2017/03/20/h...</td>\n",
       "      <td>cx:i7m47c8k5538rd2u:sdl67619goo2</td>\n",
       "      <td>2017-03-20T21:22:42.000Z</td>\n",
       "      <td>1490050834</td>\n",
       "      <td>8aa45aba5d8e2880410040c0f3c10c7a1e447475</td>\n",
       "    </tr>\n",
       "    <tr>\n",
       "      <th>8</th>\n",
       "      <td>620605796</td>\n",
       "      <td>100sport|idrettspolitikk</td>\n",
       "      <td>NaN</td>\n",
       "      <td>Her er den nye strategien etter VM-nederlaget</td>\n",
       "      <td>http://adressa.no/100sport/idrettspolitikk/her...</td>\n",
       "      <td>cx:1359724185772431277628:1bo1nngcb9hcr</td>\n",
       "      <td>2017-03-20T19:55:59.000Z</td>\n",
       "      <td>1490050836</td>\n",
       "      <td>dff1b689590e3ba0ce21a88d3295af016c3abefd</td>\n",
       "    </tr>\n",
       "    <tr>\n",
       "      <th>9</th>\n",
       "      <td>1543770103</td>\n",
       "      <td>pluss|nyheter</td>\n",
       "      <td>9.0</td>\n",
       "      <td>Ottervik mener Olsø burde informert om avtalen...</td>\n",
       "      <td>http://adressa.no/pluss/nyheter/2017/03/20/ott...</td>\n",
       "      <td>cx:13675964253951224092221:1wgstmuzo9vjl</td>\n",
       "      <td>2017-03-20T20:28:02.000Z</td>\n",
       "      <td>1490050840</td>\n",
       "      <td>8dc005abfab091585891b0af8c9d9a627e4a2729</td>\n",
       "    </tr>\n",
       "    <tr>\n",
       "      <th>10</th>\n",
       "      <td>806901198</td>\n",
       "      <td>pluss|nyheter</td>\n",
       "      <td>NaN</td>\n",
       "      <td>- I en så tragisk sak er alle tapere</td>\n",
       "      <td>http://adressa.no/pluss/nyheter/2017/03/20/i-e...</td>\n",
       "      <td>cx:y3ojtj1dah373vh26yiostnfa:3bnuogklc05m0</td>\n",
       "      <td>2017-03-20T18:20:54.000Z</td>\n",
       "      <td>1490050845</td>\n",
       "      <td>9924065d1af706392a6d7bdaab34c3ba04259158</td>\n",
       "    </tr>\n",
       "  </tbody>\n",
       "</table>\n",
       "</div>"
      ],
      "text/plain": [
       "       eventId                  category  activeTime  \\\n",
       "1     88128149         nyheter|trondheim         NaN   \n",
       "7   1470946317           nyheter|okonomi        34.0   \n",
       "8    620605796  100sport|idrettspolitikk         NaN   \n",
       "9   1543770103             pluss|nyheter         9.0   \n",
       "10   806901198             pluss|nyheter         NaN   \n",
       "\n",
       "                                                title  \\\n",
       "1   Dette er «Kystad-saken» i korte trekk - og sak...   \n",
       "7       Han er verdens tredje yngste dollarmilliardær   \n",
       "8       Her er den nye strategien etter VM-nederlaget   \n",
       "9   Ottervik mener Olsø burde informert om avtalen...   \n",
       "10               - I en så tragisk sak er alle tapere   \n",
       "\n",
       "                                                  url  \\\n",
       "1   http://adressa.no/nyheter/trondheim/2017/03/17...   \n",
       "7   http://adressa.no/nyheter/okonomi/2017/03/20/h...   \n",
       "8   http://adressa.no/100sport/idrettspolitikk/her...   \n",
       "9   http://adressa.no/pluss/nyheter/2017/03/20/ott...   \n",
       "10  http://adressa.no/pluss/nyheter/2017/03/20/i-e...   \n",
       "\n",
       "                                        userId               publishtime  \\\n",
       "1     cx:13675964253951224092221:1wgstmuzo9vjl  2017-03-17T17:39:35.000Z   \n",
       "7             cx:i7m47c8k5538rd2u:sdl67619goo2  2017-03-20T21:22:42.000Z   \n",
       "8      cx:1359724185772431277628:1bo1nngcb9hcr  2017-03-20T19:55:59.000Z   \n",
       "9     cx:13675964253951224092221:1wgstmuzo9vjl  2017-03-20T20:28:02.000Z   \n",
       "10  cx:y3ojtj1dah373vh26yiostnfa:3bnuogklc05m0  2017-03-20T18:20:54.000Z   \n",
       "\n",
       "          time                                documentId  \n",
       "1   1490050820  ff9704d73150a5f14bbad454f4f6e0f252f49521  \n",
       "7   1490050834  8aa45aba5d8e2880410040c0f3c10c7a1e447475  \n",
       "8   1490050836  dff1b689590e3ba0ce21a88d3295af016c3abefd  \n",
       "9   1490050840  8dc005abfab091585891b0af8c9d9a627e4a2729  \n",
       "10  1490050845  9924065d1af706392a6d7bdaab34c3ba04259158  "
      ]
     },
     "execution_count": 26,
     "metadata": {},
     "output_type": "execute_result"
    }
   ],
   "source": [
    "df = df.loc[df[\"url\"] != \"http://adressa.no\"]\n",
    "df.head()"
   ]
  },
  {
   "cell_type": "code",
   "execution_count": 27,
   "id": "f191f573",
   "metadata": {},
   "outputs": [
    {
     "data": {
      "text/plain": [
       "nyheter|trondheim       111330\n",
       "100sport|vintersport     78336\n",
       "pluss|nyheter            66384\n",
       "nyheter|sortrondelag     59679\n",
       "100sport|fotball         45221\n",
       "                         ...  \n",
       "kultur|aretstronder          1\n",
       "sport|langrenn               1\n",
       "sport|friidrett              1\n",
       "tema|kvinner                 1\n",
       "kultur|anmeldt               1\n",
       "Name: category, Length: 78, dtype: int64"
      ]
     },
     "execution_count": 27,
     "metadata": {},
     "output_type": "execute_result"
    }
   ],
   "source": [
    "df[\"category\"].value_counts()"
   ]
  },
  {
   "cell_type": "code",
   "execution_count": 28,
   "id": "83613d31",
   "metadata": {},
   "outputs": [
    {
     "data": {
      "text/plain": [
       "cx:ib1vo01vq38f2mqc:20lut6o1pv35i              11606\n",
       "cx:1m0dupfv97gglk5u9yfw65lhl:2sjgjqpk418jv      4888\n",
       "cx:ijq24khh55o2122b:289q18ivmeykj               4818\n",
       "cx:25keeu1fyal75150chjpjhsgbb:1hkvdvyhju9nl     4512\n",
       "cx:indkf9qa1j5duj67:2ugo0yr43zmrh               3695\n",
       "                                               ...  \n",
       "cx:2pjx63m63citmksxzlm8ybh1e:9tbt0753ou2s        416\n",
       "cx:13107309109141761847803:1e1rswsawyyc3         398\n",
       "cx:2sf5o8rm80qqm2qlpgbi8qe2ro:1l7kv1n1ca9j6      385\n",
       "cx:imhu7vxoj7z10pry:rlyyspfc7igg                 381\n",
       "cx:3issdo0lv8bl5t4f8ghwjqfi7:1x1mapsk4o78i       298\n",
       "Name: userId, Length: 1000, dtype: int64"
      ]
     },
     "execution_count": 28,
     "metadata": {},
     "output_type": "execute_result"
    }
   ],
   "source": [
    "df[\"userId\"].value_counts()"
   ]
  },
  {
   "cell_type": "code",
   "execution_count": 29,
   "id": "9293e500",
   "metadata": {},
   "outputs": [
    {
     "data": {
      "text/plain": [
       "1.0      22758\n",
       "4.0      12895\n",
       "5.0      12508\n",
       "3.0      12008\n",
       "6.0      11882\n",
       "         ...  \n",
       "747.0        1\n",
       "743.0        1\n",
       "797.0        1\n",
       "659.0        1\n",
       "832.0        1\n",
       "Name: activeTime, Length: 871, dtype: int64"
      ]
     },
     "execution_count": 29,
     "metadata": {},
     "output_type": "execute_result"
    }
   ],
   "source": [
    "df[\"activeTime\"].value_counts()"
   ]
  },
  {
   "cell_type": "code",
   "execution_count": null,
   "id": "dca3e440",
   "metadata": {},
   "outputs": [],
   "source": []
  }
 ],
 "metadata": {
  "kernelspec": {
   "display_name": "Python 3 (ipykernel)",
   "language": "python",
   "name": "python3"
  },
  "language_info": {
   "codemirror_mode": {
    "name": "ipython",
    "version": 3
   },
   "file_extension": ".py",
   "mimetype": "text/x-python",
   "name": "python",
   "nbconvert_exporter": "python",
   "pygments_lexer": "ipython3",
   "version": "3.9.16"
  }
 },
 "nbformat": 4,
 "nbformat_minor": 5
}
