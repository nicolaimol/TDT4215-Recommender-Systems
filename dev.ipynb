{
 "cells": [
  {
   "cell_type": "code",
   "execution_count": 2,
   "id": "2df85cb9",
   "metadata": {},
   "outputs": [],
   "source": [
    "import os\n",
    "import json\n",
    "import pandas as pd\n",
    "import project_example as pe"
   ]
  },
  {
   "cell_type": "code",
   "execution_count": 3,
   "id": "ddf72a2b",
   "metadata": {},
   "outputs": [],
   "source": [
    "def load_data(path):\n",
    "    \"\"\"\n",
    "        Load events from files and convert to dataframe.\n",
    "    \"\"\"\n",
    "    map_lst=[]\n",
    "    for f in os.listdir(path):\n",
    "        file_name=os.path.join(path,f)\n",
    "        if os.path.isfile(file_name):\n",
    "            for line in open(file_name):\n",
    "                obj = json.loads(line.strip())\n",
    "                if not obj is None:\n",
    "                    map_lst.append(obj)\n",
    "    return pd.DataFrame(map_lst) "
   ]
  },
  {
   "cell_type": "code",
   "execution_count": 4,
   "id": "abe34cba",
   "metadata": {},
   "outputs": [],
   "source": [
    "df = load_data(\"active1000\")"
   ]
  },
  {
   "cell_type": "code",
   "execution_count": 5,
   "id": "2ecd0d0b",
   "metadata": {},
   "outputs": [
    {
     "data": {
      "text/html": [
       "<div>\n",
       "<style scoped>\n",
       "    .dataframe tbody tr th:only-of-type {\n",
       "        vertical-align: middle;\n",
       "    }\n",
       "\n",
       "    .dataframe tbody tr th {\n",
       "        vertical-align: top;\n",
       "    }\n",
       "\n",
       "    .dataframe thead th {\n",
       "        text-align: right;\n",
       "    }\n",
       "</style>\n",
       "<table border=\"1\" class=\"dataframe\">\n",
       "  <thead>\n",
       "    <tr style=\"text-align: right;\">\n",
       "      <th></th>\n",
       "      <th>eventId</th>\n",
       "      <th>category</th>\n",
       "      <th>activeTime</th>\n",
       "      <th>title</th>\n",
       "      <th>url</th>\n",
       "      <th>userId</th>\n",
       "      <th>publishtime</th>\n",
       "      <th>time</th>\n",
       "      <th>documentId</th>\n",
       "    </tr>\n",
       "  </thead>\n",
       "  <tbody>\n",
       "    <tr>\n",
       "      <th>2</th>\n",
       "      <td>483221791</td>\n",
       "      <td>None</td>\n",
       "      <td>NaN</td>\n",
       "      <td>None</td>\n",
       "      <td>http://adressa.no/nyheter/trondheim/2016/12/31...</td>\n",
       "      <td>cx:iimz2wwcwxu7d721:2r8odp9zhg5yp</td>\n",
       "      <td>None</td>\n",
       "      <td>1483225328</td>\n",
       "      <td>None</td>\n",
       "    </tr>\n",
       "    <tr>\n",
       "      <th>4</th>\n",
       "      <td>1908339310</td>\n",
       "      <td>None</td>\n",
       "      <td>NaN</td>\n",
       "      <td>None</td>\n",
       "      <td>http://adressa.no/pluss/kultur/2016/12/31/bare...</td>\n",
       "      <td>cx:iimz2wwcwxu7d721:2r8odp9zhg5yp</td>\n",
       "      <td>None</td>\n",
       "      <td>1483225387</td>\n",
       "      <td>None</td>\n",
       "    </tr>\n",
       "    <tr>\n",
       "      <th>15</th>\n",
       "      <td>828764961</td>\n",
       "      <td>None</td>\n",
       "      <td>NaN</td>\n",
       "      <td>Se lesernes nyttårsbilder</td>\n",
       "      <td>http://adressa.no/nyheter/2016/12/31/se-lesern...</td>\n",
       "      <td>cx:il0sdznsjgg9uxgy:3bi2ksost85yi</td>\n",
       "      <td>2016-12-31T17:13:57.000Z</td>\n",
       "      <td>1483225500</td>\n",
       "      <td>9f3999bd1a1a8d67bcb073ad54840f15cb30f014</td>\n",
       "    </tr>\n",
       "    <tr>\n",
       "      <th>16</th>\n",
       "      <td>2066591949</td>\n",
       "      <td>None</td>\n",
       "      <td>51.0</td>\n",
       "      <td>None</td>\n",
       "      <td>http://adressa.no/nyheter/trondheim/2016/12/31...</td>\n",
       "      <td>cx:ihnzu06beuazgkud:dj2r4rm22hul</td>\n",
       "      <td>None</td>\n",
       "      <td>1483225501</td>\n",
       "      <td>None</td>\n",
       "    </tr>\n",
       "    <tr>\n",
       "      <th>17</th>\n",
       "      <td>378480578</td>\n",
       "      <td>None</td>\n",
       "      <td>7.0</td>\n",
       "      <td>Se lesernes nyttårsbilder</td>\n",
       "      <td>http://adressa.no/nyheter/2016/12/31/se-lesern...</td>\n",
       "      <td>cx:ijtjdxpz93t5f8m5:2iz9n4nuh22ky</td>\n",
       "      <td>2016-12-31T17:13:57.000Z</td>\n",
       "      <td>1483225504</td>\n",
       "      <td>9f3999bd1a1a8d67bcb073ad54840f15cb30f014</td>\n",
       "    </tr>\n",
       "  </tbody>\n",
       "</table>\n",
       "</div>"
      ],
      "text/plain": [
       "       eventId category  activeTime                      title  \\\n",
       "2    483221791     None         NaN                       None   \n",
       "4   1908339310     None         NaN                       None   \n",
       "15   828764961     None         NaN  Se lesernes nyttårsbilder   \n",
       "16  2066591949     None        51.0                       None   \n",
       "17   378480578     None         7.0  Se lesernes nyttårsbilder   \n",
       "\n",
       "                                                  url  \\\n",
       "2   http://adressa.no/nyheter/trondheim/2016/12/31...   \n",
       "4   http://adressa.no/pluss/kultur/2016/12/31/bare...   \n",
       "15  http://adressa.no/nyheter/2016/12/31/se-lesern...   \n",
       "16  http://adressa.no/nyheter/trondheim/2016/12/31...   \n",
       "17  http://adressa.no/nyheter/2016/12/31/se-lesern...   \n",
       "\n",
       "                               userId               publishtime        time  \\\n",
       "2   cx:iimz2wwcwxu7d721:2r8odp9zhg5yp                      None  1483225328   \n",
       "4   cx:iimz2wwcwxu7d721:2r8odp9zhg5yp                      None  1483225387   \n",
       "15  cx:il0sdznsjgg9uxgy:3bi2ksost85yi  2016-12-31T17:13:57.000Z  1483225500   \n",
       "16   cx:ihnzu06beuazgkud:dj2r4rm22hul                      None  1483225501   \n",
       "17  cx:ijtjdxpz93t5f8m5:2iz9n4nuh22ky  2016-12-31T17:13:57.000Z  1483225504   \n",
       "\n",
       "                                  documentId  \n",
       "2                                       None  \n",
       "4                                       None  \n",
       "15  9f3999bd1a1a8d67bcb073ad54840f15cb30f014  \n",
       "16                                      None  \n",
       "17  9f3999bd1a1a8d67bcb073ad54840f15cb30f014  "
      ]
     },
     "execution_count": 5,
     "metadata": {},
     "output_type": "execute_result"
    }
   ],
   "source": [
    "df = df.loc[df[\"url\"] != \"http://adressa.no\"]\n",
    "df.head()"
   ]
  },
  {
   "cell_type": "code",
   "execution_count": 6,
   "id": "f191f573",
   "metadata": {},
   "outputs": [
    {
     "data": {
      "text/plain": [
       "nyheter|trondheim       111330\n",
       "100sport|vintersport     78336\n",
       "pluss|nyheter            66384\n",
       "nyheter|sortrondelag     59679\n",
       "100sport|fotball         45221\n",
       "                         ...  \n",
       "sport|friidrett              1\n",
       "kultur|uteliv                1\n",
       "tema|kvinner                 1\n",
       "sport|langrenn               1\n",
       "kultur|aretstronder          1\n",
       "Name: category, Length: 78, dtype: int64"
      ]
     },
     "execution_count": 6,
     "metadata": {},
     "output_type": "execute_result"
    }
   ],
   "source": [
    "df[\"category\"].value_counts()"
   ]
  },
  {
   "cell_type": "code",
   "execution_count": 7,
   "id": "83613d31",
   "metadata": {},
   "outputs": [
    {
     "data": {
      "text/plain": [
       "cx:ib1vo01vq38f2mqc:20lut6o1pv35i              11606\n",
       "cx:1m0dupfv97gglk5u9yfw65lhl:2sjgjqpk418jv      4888\n",
       "cx:ijq24khh55o2122b:289q18ivmeykj               4818\n",
       "cx:25keeu1fyal75150chjpjhsgbb:1hkvdvyhju9nl     4512\n",
       "cx:indkf9qa1j5duj67:2ugo0yr43zmrh               3695\n",
       "                                               ...  \n",
       "cx:2pjx63m63citmksxzlm8ybh1e:9tbt0753ou2s        416\n",
       "cx:13107309109141761847803:1e1rswsawyyc3         398\n",
       "cx:2sf5o8rm80qqm2qlpgbi8qe2ro:1l7kv1n1ca9j6      385\n",
       "cx:imhu7vxoj7z10pry:rlyyspfc7igg                 381\n",
       "cx:3issdo0lv8bl5t4f8ghwjqfi7:1x1mapsk4o78i       298\n",
       "Name: userId, Length: 1000, dtype: int64"
      ]
     },
     "execution_count": 7,
     "metadata": {},
     "output_type": "execute_result"
    }
   ],
   "source": [
    "df[\"userId\"].value_counts()"
   ]
  },
  {
   "cell_type": "code",
   "execution_count": 13,
   "id": "9293e500",
   "metadata": {},
   "outputs": [
    {
     "data": {
      "text/plain": [
       "array([[1., 1., 1., ..., 0., 0., 0.],\n",
       "       [0., 0., 1., ..., 0., 0., 0.],\n",
       "       [0., 0., 0., ..., 0., 0., 0.],\n",
       "       ...,\n",
       "       [0., 0., 0., ..., 1., 0., 0.],\n",
       "       [0., 0., 1., ..., 0., 1., 1.],\n",
       "       [1., 0., 1., ..., 0., 0., 0.]])"
      ]
     },
     "execution_count": 13,
     "metadata": {},
     "output_type": "execute_result"
    }
   ],
   "source": [
    "df[\"activeTime\"].value_counts()\n",
    "import project_example as pe\n",
    "pe.load_dataset(df)"
   ]
  },
  {
   "cell_type": "code",
   "execution_count": 10,
   "id": "dca3e440",
   "metadata": {},
   "outputs": [
    {
     "name": "stdout",
     "output_type": "stream",
     "text": [
      "\n",
      "Recommendation based on MF...\n",
      "Iteration: 1\n",
      "Train mse: 0.6028010179282268\n",
      "Test mse: 0.6913873701446002\n",
      "Iteration: 2\n",
      "Train mse: 0.5352541484174914\n",
      "Test mse: 0.6445373262571954\n",
      "Iteration: 5\n",
      "Train mse: 0.5132553099392438\n",
      "Test mse: 0.6291036494584553\n",
      "Iteration: 10\n",
      "Train mse: 0.5101022803063364\n",
      "Test mse: 0.6259236008209573\n",
      "Iteration: 25\n",
      "Current iteration: 10\n",
      "Train mse: 0.5092217609709648\n",
      "Test mse: 0.6247774865420848\n",
      "Iteration: 50\n",
      "Current iteration: 10\n",
      "Current iteration: 20\n",
      "Train mse: 0.5090008807365515\n",
      "Test mse: 0.6244602531065939\n",
      "Iteration: 100\n",
      "Current iteration: 10\n",
      "Current iteration: 20\n",
      "Current iteration: 30\n",
      "Current iteration: 40\n",
      "Current iteration: 50\n",
      "Train mse: 0.5089493015081172\n",
      "Test mse: 0.6243641707550818\n"
     ]
    },
    {
     "data": {
      "image/png": "[encoded data removed]",
      "text/plain": [
       "<Figure size 640x480 with 1 Axes>"
      ]
     },
     "metadata": {},
     "output_type": "display_data"
    }
   ],
   "source": [
    "import project_example as pe\n",
    "pe.load_dataset(df)\n",
    "\n",
    "print(\"\\nRecommendation based on MF...\")\n",
    "pe.collaborative_filtering(df)"
   ]
  },
  {
   "cell_type": "code",
   "execution_count": null,
   "id": "0a128c14",
   "metadata": {},
   "outputs": [],
   "source": []
  }
 ],
 "metadata": {
  "kernelspec": {
   "display_name": "Python 3 (ipykernel)",
   "language": "python",
   "name": "python3"
  },
  "language_info": {
   "codemirror_mode": {
    "name": "ipython",
    "version": 3
   },
   "file_extension": ".py",
   "mimetype": "text/x-python",
   "name": "python",
   "nbconvert_exporter": "python",
   "pygments_lexer": "ipython3",
   "version": "3.9.16"
  }
 },
 "nbformat": 4,
 "nbformat_minor": 5
}
