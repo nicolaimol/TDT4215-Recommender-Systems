{
 "cells": [
  {
   "cell_type": "code",
   "execution_count": 1,
   "metadata": {
    "ExecuteTime": {
     "start_time": "2023-04-18T15:25:27.688294Z",
     "end_time": "2023-04-18T15:25:29.654487Z"
    }
   },
   "outputs": [],
   "source": [
    "import torch\n",
    "from torch import nn\n",
    "from BERT.Transformer import RecommendationTransformer\n",
    "\n",
    "%load_ext autoreload\n",
    "%autoreload 2"
   ]
  },
  {
   "cell_type": "code",
   "execution_count": 2,
   "metadata": {
    "ExecuteTime": {
     "start_time": "2023-04-18T15:25:29.657840Z",
     "end_time": "2023-04-18T15:25:30.181412Z"
    }
   },
   "outputs": [],
   "source": [
    "import os\n",
    "import json\n",
    "import pandas as pd\n",
    "def load_data(path):\n",
    "    \"\"\"\n",
    "        Load events from files and convert to dataframe.\n",
    "    \"\"\"\n",
    "    map_lst=[]\n",
    "    for f in os.listdir(path):\n",
    "        file_name=os.path.join(path,f)\n",
    "        if os.path.isfile(file_name):\n",
    "            for line in open(file_name):\n",
    "                obj = json.loads(line.strip())\n",
    "                if not obj is None:\n",
    "                    map_lst.append(obj)\n",
    "    return pd.DataFrame(map_lst)"
   ]
  },
  {
   "cell_type": "code",
   "execution_count": 3,
   "metadata": {
    "ExecuteTime": {
     "start_time": "2023-04-18T15:25:30.182417Z",
     "end_time": "2023-04-18T15:25:53.579296Z"
    }
   },
   "outputs": [
    {
     "data": {
      "text/plain": "       eventId                  category  activeTime  \\\n1     88128149         nyheter|trondheim         NaN   \n7   1470946317           nyheter|okonomi        34.0   \n8    620605796  100sport|idrettspolitikk         NaN   \n9   1543770103             pluss|nyheter         9.0   \n10   806901198             pluss|nyheter         NaN   \n\n                                                title  \\\n1   Dette er «Kystad-saken» i korte trekk - og sak...   \n7       Han er verdens tredje yngste dollarmilliardær   \n8       Her er den nye strategien etter VM-nederlaget   \n9   Ottervik mener Olsø burde informert om avtalen...   \n10               - I en så tragisk sak er alle tapere   \n\n                                                  url  \\\n1   http://adressa.no/nyheter/trondheim/2017/03/17...   \n7   http://adressa.no/nyheter/okonomi/2017/03/20/h...   \n8   http://adressa.no/100sport/idrettspolitikk/her...   \n9   http://adressa.no/pluss/nyheter/2017/03/20/ott...   \n10  http://adressa.no/pluss/nyheter/2017/03/20/i-e...   \n\n                                        userId               publishtime  \\\n1     cx:13675964253951224092221:1wgstmuzo9vjl  2017-03-17T17:39:35.000Z   \n7             cx:i7m47c8k5538rd2u:sdl67619goo2  2017-03-20T21:22:42.000Z   \n8      cx:1359724185772431277628:1bo1nngcb9hcr  2017-03-20T19:55:59.000Z   \n9     cx:13675964253951224092221:1wgstmuzo9vjl  2017-03-20T20:28:02.000Z   \n10  cx:y3ojtj1dah373vh26yiostnfa:3bnuogklc05m0  2017-03-20T18:20:54.000Z   \n\n          time                                documentId  \n1   1490050820  ff9704d73150a5f14bbad454f4f6e0f252f49521  \n7   1490050834  8aa45aba5d8e2880410040c0f3c10c7a1e447475  \n8   1490050836  dff1b689590e3ba0ce21a88d3295af016c3abefd  \n9   1490050840  8dc005abfab091585891b0af8c9d9a627e4a2729  \n10  1490050845  9924065d1af706392a6d7bdaab34c3ba04259158  ",
      "text/html": "<div>\n<style scoped>\n    .dataframe tbody tr th:only-of-type {\n        vertical-align: middle;\n    }\n\n    .dataframe tbody tr th {\n        vertical-align: top;\n    }\n\n    .dataframe thead th {\n        text-align: right;\n    }\n</style>\n<table border=\"1\" class=\"dataframe\">\n  <thead>\n    <tr style=\"text-align: right;\">\n      <th></th>\n      <th>eventId</th>\n      <th>category</th>\n      <th>activeTime</th>\n      <th>title</th>\n      <th>url</th>\n      <th>userId</th>\n      <th>publishtime</th>\n      <th>time</th>\n      <th>documentId</th>\n    </tr>\n  </thead>\n  <tbody>\n    <tr>\n      <th>1</th>\n      <td>88128149</td>\n      <td>nyheter|trondheim</td>\n      <td>NaN</td>\n      <td>Dette er «Kystad-saken» i korte trekk - og sak...</td>\n      <td>http://adressa.no/nyheter/trondheim/2017/03/17...</td>\n      <td>cx:13675964253951224092221:1wgstmuzo9vjl</td>\n      <td>2017-03-17T17:39:35.000Z</td>\n      <td>1490050820</td>\n      <td>ff9704d73150a5f14bbad454f4f6e0f252f49521</td>\n    </tr>\n    <tr>\n      <th>7</th>\n      <td>1470946317</td>\n      <td>nyheter|okonomi</td>\n      <td>34.0</td>\n      <td>Han er verdens tredje yngste dollarmilliardær</td>\n      <td>http://adressa.no/nyheter/okonomi/2017/03/20/h...</td>\n      <td>cx:i7m47c8k5538rd2u:sdl67619goo2</td>\n      <td>2017-03-20T21:22:42.000Z</td>\n      <td>1490050834</td>\n      <td>8aa45aba5d8e2880410040c0f3c10c7a1e447475</td>\n    </tr>\n    <tr>\n      <th>8</th>\n      <td>620605796</td>\n      <td>100sport|idrettspolitikk</td>\n      <td>NaN</td>\n      <td>Her er den nye strategien etter VM-nederlaget</td>\n      <td>http://adressa.no/100sport/idrettspolitikk/her...</td>\n      <td>cx:1359724185772431277628:1bo1nngcb9hcr</td>\n      <td>2017-03-20T19:55:59.000Z</td>\n      <td>1490050836</td>\n      <td>dff1b689590e3ba0ce21a88d3295af016c3abefd</td>\n    </tr>\n    <tr>\n      <th>9</th>\n      <td>1543770103</td>\n      <td>pluss|nyheter</td>\n      <td>9.0</td>\n      <td>Ottervik mener Olsø burde informert om avtalen...</td>\n      <td>http://adressa.no/pluss/nyheter/2017/03/20/ott...</td>\n      <td>cx:13675964253951224092221:1wgstmuzo9vjl</td>\n      <td>2017-03-20T20:28:02.000Z</td>\n      <td>1490050840</td>\n      <td>8dc005abfab091585891b0af8c9d9a627e4a2729</td>\n    </tr>\n    <tr>\n      <th>10</th>\n      <td>806901198</td>\n      <td>pluss|nyheter</td>\n      <td>NaN</td>\n      <td>- I en så tragisk sak er alle tapere</td>\n      <td>http://adressa.no/pluss/nyheter/2017/03/20/i-e...</td>\n      <td>cx:y3ojtj1dah373vh26yiostnfa:3bnuogklc05m0</td>\n      <td>2017-03-20T18:20:54.000Z</td>\n      <td>1490050845</td>\n      <td>9924065d1af706392a6d7bdaab34c3ba04259158</td>\n    </tr>\n  </tbody>\n</table>\n</div>"
     },
     "execution_count": 3,
     "metadata": {},
     "output_type": "execute_result"
    }
   ],
   "source": [
    "df = load_data(\"active1000\")\n",
    "\n",
    "df = df.loc[df[\"url\"] != \"http://adressa.no\"]\n",
    "df.head()"
   ]
  },
  {
   "cell_type": "code",
   "execution_count": 4,
   "metadata": {
    "ExecuteTime": {
     "start_time": "2023-04-18T15:25:53.581122Z",
     "end_time": "2023-04-18T15:25:54.185404Z"
    }
   },
   "outputs": [
    {
     "data": {
      "text/plain": "                                               title  id\n0  Dette er «Kystad-saken» i korte trekk - og sak...   0\n1      Han er verdens tredje yngste dollarmilliardær   1\n2      Her er den nye strategien etter VM-nederlaget   2\n3  Ottervik mener Olsø burde informert om avtalen...   3\n4               - I en så tragisk sak er alle tapere   4",
      "text/html": "<div>\n<style scoped>\n    .dataframe tbody tr th:only-of-type {\n        vertical-align: middle;\n    }\n\n    .dataframe tbody tr th {\n        vertical-align: top;\n    }\n\n    .dataframe thead th {\n        text-align: right;\n    }\n</style>\n<table border=\"1\" class=\"dataframe\">\n  <thead>\n    <tr style=\"text-align: right;\">\n      <th></th>\n      <th>title</th>\n      <th>id</th>\n    </tr>\n  </thead>\n  <tbody>\n    <tr>\n      <th>0</th>\n      <td>Dette er «Kystad-saken» i korte trekk - og sak...</td>\n      <td>0</td>\n    </tr>\n    <tr>\n      <th>1</th>\n      <td>Han er verdens tredje yngste dollarmilliardær</td>\n      <td>1</td>\n    </tr>\n    <tr>\n      <th>2</th>\n      <td>Her er den nye strategien etter VM-nederlaget</td>\n      <td>2</td>\n    </tr>\n    <tr>\n      <th>3</th>\n      <td>Ottervik mener Olsø burde informert om avtalen...</td>\n      <td>3</td>\n    </tr>\n    <tr>\n      <th>4</th>\n      <td>- I en så tragisk sak er alle tapere</td>\n      <td>4</td>\n    </tr>\n  </tbody>\n</table>\n</div>"
     },
     "execution_count": 4,
     "metadata": {},
     "output_type": "execute_result"
    }
   ],
   "source": [
    "unique_titles = df[\"title\"].unique().tolist()\n",
    "unique_users = df[\"userId\"].unique().tolist()\n",
    "\n",
    "# make dataframe from uniqie titles with id\n",
    "title_df = pd.DataFrame({\"title\": unique_titles})\n",
    "user_df = pd.DataFrame({\"userId\": unique_users})\n",
    "title_df[\"id\"] = title_df.index\n",
    "user_df[\"id\"] = user_df.index\n",
    "\n",
    "title_df.head()"
   ]
  },
  {
   "cell_type": "code",
   "execution_count": 5,
   "metadata": {
    "ExecuteTime": {
     "start_time": "2023-04-18T15:25:54.191511Z",
     "end_time": "2023-04-18T15:25:54.476074Z"
    }
   },
   "outputs": [
    {
     "data": {
      "text/plain": "'sorted[\"title\"] = sorted[\"title\"].apply(lambda x: title_list.index(x))\\n\\ngrouped_readings = sorted.groupby(\"userId\").agg(list)\\n\\ngrouped_readings.head()'"
     },
     "execution_count": 5,
     "metadata": {},
     "output_type": "execute_result"
    }
   ],
   "source": [
    "sorted = df.sort_values(by=[\"time\"], inplace=False)\n",
    "\n",
    "title_list = title_df[\"title\"].tolist()\n",
    "\n",
    "# for each title in sorted change with index of title_list\n",
    "\"\"\"sorted[\"title\"] = sorted[\"title\"].apply(lambda x: title_list.index(x))\n",
    "\n",
    "grouped_readings = sorted.groupby(\"userId\").agg(list)\n",
    "\n",
    "grouped_readings.head()\"\"\""
   ]
  },
  {
   "cell_type": "code",
   "execution_count": 6,
   "metadata": {
    "ExecuteTime": {
     "start_time": "2023-04-18T15:25:54.482255Z",
     "end_time": "2023-04-18T15:25:54.546127Z"
    }
   },
   "outputs": [],
   "source": [
    "title_id_mapping = {\n",
    "    k: i+2 for i, k in enumerate(title_list)\n",
    "}\n",
    "\n",
    "user_id_mapping = {\n",
    "    k: i+2 for i, k in enumerate(unique_users)\n",
    "}"
   ]
  },
  {
   "cell_type": "code",
   "execution_count": 7,
   "metadata": {
    "ExecuteTime": {
     "start_time": "2023-04-18T15:25:54.544819Z",
     "end_time": "2023-04-18T15:25:54.640106Z"
    }
   },
   "outputs": [
    {
     "data": {
      "text/plain": "{'Dette er «Kystad-saken» i korte trekk - og sakens konsekvenser': 2,\n 'Han er verdens tredje yngste dollarmilliardær': 3,\n 'Her er den nye strategien etter VM-nederlaget': 4,\n 'Ottervik mener Olsø burde informert om avtalen for to år siden': 5,\n '- I en så tragisk sak er alle tapere': 6,\n 'Vintervær igjen midt i uken, betydelig varmere fra helgen': 7,\n 'Ukultur i Adressa': 8,\n 'Så lønnsomt er det å «Harry-handle» på apotek i Sverige': 9,\n '- Ikke holdbart': 10,\n 'Norsk kvinne alvorlig skadd i minibussulykke i Sverige': 11,\n '«Den ene skal også ha vist fram tissefanten sin»': 12,\n 'Trondheimsrebusen: Vet du dette om Trondheim?': 13,\n None: 14,\n 'Stjernens forvandling: Fra klovn til kapteinstype': 15,\n 'Det er ikke rart at unge søker til porno': 16,\n '- Kultur-husene må lage underholdning selv': 17,\n 'Anita har gjenbrukt vinduer fra Torget og murstein fra Solsiden': 18,\n '«Ta ut stikk-kontakten til varmeovnene allerede i dag»': 19,\n '- Hele livet er snudd opp ned': 20,\n 'Hvis den engelske helsetjenesten nå «amerikaniseres», hva da med vår?': 21,\n '72-åring dømt til betinget fengsel etter dødsulykke': 22,\n '- Robotstøvsugeren er en fallitterklæring': 23,\n 'Lagerbäck varsler «mektig uke» for spillerne: - Jeg skal være amatørpsykolog': 24,\n 'Sagosen om viljeutvisningene: - Setter norsk håndball i dårlig lys': 25,\n 'Jazzlegenden Dave Grusin spilte i Trondheim for første gang': 26,\n '- Æ fikk en kniv i strupen, men det har itj nå betydning. Redd han': 27,\n 'Dette er dagens begravelser og bisettelser': 28,\n 'Ringte ikke brannvesenet da hun så lekkasjen': 29,\n 'Kvinne sendt til sykehus etter at bil havnet på taket i Namdal': 30,\n 'Nektet straffskyld for å ha kvalt kameraten til døde': 31,\n 'Stjal førstehjelpsutstyr og bensin fra Røde Kors': 32,\n 'I skogenes land Finland kommer ikke biodieselen fra kvister og grener': 33,\n 'Norges kaptein hylles etter Chelsea-debuten: - En av Europas beste': 34,\n 'Hvor mye juks og kynisme tåler publikum og sponsorer?': 35,\n 'Slåssing og hærverk på biler': 36,\n 'Vil ha senter for Alzheimer-forskning - men helseministeren lover ingenting': 37,\n '\"Sjåvinistisk\" fjernsynsprogram tatt av lufta i Italia': 38,\n 'Slik spiser Solfrid for 15 kroner dagen hele året': 39,\n 'TEST av Bang &amp; Olufsens BeoVision: Retro-TV med meget god billedkvalitet': 40,\n 'TV 2-profil mener omdiskutert taktikk grenser til kampfiksing: – Det er helt hodeløst': 41,\n 'De hysteriske hylene fra hunden vekket Linn-Kristin etter dødsulykken': 42,\n 'Pasientblikket nedenfra etableres der du ligger naken og sårbar, uten briller, klokke, telefon': 43,\n '- Jeg må si jeg beundrer de damene som er gift med sånne som meg.': 44,\n 'Hunden som ble påkjørt måtte avlives': 45,\n 'Jørgen så mystiske luksusbiler ved Coop-butikken': 46,\n 'Reinertsen kan bli solgt - har mottatt foreløpige bud': 47,\n 'Sp takker nei til samarbeidsavtaler': 48,\n 'Dette er trøndelags rikeste': 49,\n 'Da Sjøbadet var en «toetasjes» trekai': 50,\n 'Ekspertene tviler på AaFK': 51,\n 'Rystet Arbeiderparti ser frem mot nytt Trøndelag': 52,\n 'I dag starter rettssaken etter Øysand-brannen': 53,\n 'Her er oversikten som bør få Lagerbäck til å smile': 54,\n '- Ansatte hørte et dunk fra tankrommet og sprang inn': 55,\n 'Ble fotgjenger etter UP-kontroll i Meråker': 56,\n 'Skal alt være tillatt i kampen mot unge asylsøkere?': 57,\n 'Fant skjelett, trolig fra istida': 58,\n 'På benken: «Martin Luther hadde også en bowlinghall»': 59,\n 'Når er det egentlig greit å kjefte på andres barn?': 60,\n 'Pål har over 170 krukker og fat, alle fra samme fabrikk.': 61,\n 'Kjedekollisjon skapte lange køer': 62,\n 'Professor: - Vanskelig å bevise påvirkningshandel': 63,\n '- Jeg blir glad når jeg hører snufsing i salen': 64,\n 'Nå blir Tande &amp; Co. tv-stjerner: - Det blir ingen nakenhet': 65,\n 'Derfor har du ikke sett RBKs nysignering siden kampen mot København': 66,\n 'Her er laget ditt, Nilsen!': 67,\n 'USA forbyr elektroniske gjenstander på flere fly': 68,\n '161 km/t på Kroppanbrua': 69,\n '«Her skal det festes. Her skal det piskes. Når det er underholdning for kvinner, er det helt greit.»': 70,\n 'Norge er kåret til verdens lykkeligste land': 71,\n 'Nå har Anders Jacobsen fått ny jobb': 72,\n 'En ponni med flere triks eller en dansende papegøye. Disse skal selge Trøndelag': 73,\n 'Foreldrene nektet å godta beskjeden fra helsevesenet. De reiste til USA og fikk operasjonen som ga Odin (6) et nytt liv': 74,\n 'Minneord: Tove Brown Opdahl Wendel': 75,\n 'Minneord: Jomar Staw': 76,\n 'Minneord: Eigil Mostad': 77,\n 'Minneord: Paul Irgens': 78,\n 'Minneord: Gunnar Olav Nilsen': 79,\n 'Bolig til salgs i og rundt Trondheim - Boligguiden - adressa.no': 80,\n '- Ukultur med fotgjengere i skiløypene': 81,\n 'Rasende Moan etter syvendeplassen: - Det jeg har på beinene stopper fullstendig': 82,\n 'Var det biler i Søndre gate i 1922?': 83,\n 'Hvor ble det av Hjorten?': 84,\n 'Slik er det i dag. Men hvordan var det for 30 år siden?': 85,\n 'Skal det være en oksetiss?': 86,\n 'Tiril Eckhoff ville gi seg, men endret mening etter kjærestens ord: – Det var bra sagt': 87,\n 'Snudde nedleggelse til en omsetning på 132 millioner og tre ganger flere ansatte': 88,\n 'Rikard Norlings klubb gir bort draktplassen for å hedre avdød spiller': 89,\n 'Gaupe skutt i Ålen': 90,\n 'Språksvake toåringer faller utenfor i lek': 91,\n 'Mann slått ned og ranet': 92,\n 'DNBs nettbank var nede igjen': 93,\n 'Highasakite har solgt 6000 til Uka-teltet': 94,\n 'Tidligere bedrageridømt siktet for skattefusk': 95,\n 'Reuters: Tillerson planlegger å avlyse NATO-møte': 96,\n '- Unge har mindre sex enn tidligere generasjoner': 97,\n 'Snart må alle i Trondheim endre søppelvanene sine': 98,\n 'Måtte evakuere nyåpnet bar to netter på rad': 99,\n 'Er det et problem å sitte mye stille så lenge du trener?': 100,\n 'Senterpartiet vil kutte Tesla-subsidier': 101,\n 'Lærer: Det er en misforstått lydighetskultur i Trondheim kommune.': 102,\n 'Island mener også Norge må lovfeste likelønn': 103,\n 'Wenger har bestemt seg: - Det kommer til å bli stilt skyhøye krav': 104,\n 'Betalte 600 000 kroner for MS-behandling. Nå vil hun jobbe igjen': 105,\n 'Arbeiderpartiet slipper eiendomsskatt de selv innførte': 106,\n 'Leksefri skole uten tall og bokstaver': 107,\n '- Kan ikke forstå at det er et marked for å kjøpe seg burger klokka 05 om morran': 108,\n 'Dette engelske supertalentet kommer til Trondheim i mai': 109,\n 'Heidi og Daniel ble kjærester til «Hjertemedisin»': 110,\n 'Nytt Trump-barnebarn på vei': 111,\n '«Du er ikke syk, du er bare i dårlig form, tjukka»': 112,\n '- Trening er ikke én medisin for hjernen. Det er 50 eller 100 medisiner for hjernen.': 113,\n 'Fjern motivet på disse bleiene, Rema 1000': 114,\n 'Park sier unnskyld til folket': 115,\n 'Det er lettere å trene om du gjør dette først': 116,\n 'Dette sier Giske og Støre om Kystad-saken': 117,\n 'Sjekk ruter og holdeplasser i vårt nye superbusskart': 118,\n 'Reitan-familien har halvparten av inntektene sine fra utlandet': 119,\n 'Eier Salmar-aksjer verdt 15 milliarder': 120,\n 'Så mye frukt og grønt bør du spise': 121,\n 'Berit Rusten har tro på den nye bølgen': 122,\n 'Nidaros-trenerens personlige drama: Slo hull på en nyre - havnet på sykehus': 123,\n 'Full uenighet om Berit Nordstrands kostholdsråd': 124,\n 'Jentene reagerer: – Det er urettferdig at vi ikke får takle, når gutta får lov': 125,\n 'Nordstrands sukkerbok får sur kritikk': 126,\n 'Kostholdsekspert tok ut 2,8 millioner i utbytte': 127,\n 'Kinesiske firmaer kaster seg over \"Ivanka\"': 128,\n 'Hva skal vi si til barn for at de ikke gir opp når de møter motgang?': 129,\n 'Da «Nordens Davos» lå i Bymarka': 130,\n 'Trafikkuhell ved bensinstasjon': 131,\n 'Trønderske skattebetalere får igjen over tre milliarder': 132,\n 'Skattelistene legges ut før tida': 133,\n 'Derfor blander vi navnene på våre kjære': 134,\n 'Prøvekjøring: Klarer den nye BMW 5-serie å holde følge med konkurrentene?': 135,\n 'Fjellfarer fyller 80': 136,\n 'Svein Børge ble far mens han lå i koma etter brannen': 137,\n 'Nekter å betale bot etter dødsbrannen på Øysand': 138,\n 'Laveste vekst i innbyggere på over ti år i Trondheim': 139,\n 'Det første året koster babyen nesten 50 000 kroner': 140,\n 'Unormalt røntgenbilde ble ikke fulgt opp - 14-åring døde': 141,\n 'Vi bør stille opp mer for barnevernet': 142,\n 'Bedragerisiktede Prora Eiendom får tre nye styremedlemmer': 143,\n 'Politiet måtte stoppe skiskytternes avslutningsfest': 144,\n 'Joakim fikk knipset bilder av en sjelden bilnyhet': 145,\n 'Snart settes de nye fotoboksene i drift på E6': 146,\n 'Her blir flest knipset av fotoboksene': 147,\n 'Godterisjefen på kinoen fikk tre millioner i fjor': 148,\n 'Advarer om kraftige vindkast inn over land i Trøndelag': 149,\n '- Det var ikke et møte uten at ansatte gråt': 150,\n 'Én av fire får lengre avstand til holdeplassen når superbussen kommer i 2019': 151,\n 'Før var bilen hellig, nå vil alle ha den bort': 152,\n 'Lyst til å trene styrke? Da bør du ikke gjøre denne feilen': 153,\n 'Tid for raskt tog i Trøndelag': 154,\n 'Redd foreldrene skremmer barna bort fra yrkesfag': 155,\n 'Ny tunnel og toplanskryss - slik blir nye E6 i Soknedal': 156,\n 'Her skal det komme minst 400 nye boliger': 157,\n 'Slik kan kostnadene til superbuss kuttes med flere hundre millioner': 158,\n 'Nettmøte: Superbuss': 159,\n 'De unge blir fattigere og eldre rikere i Norge': 160,\n 'Ny undersøkelse: Fant oftere feil på Iphone enn på Android-telefonene': 161,\n 'Tonje Vanebo slet med å finne riktig vaskehjelp': 162,\n 'Bråstopp i likestillingen': 163,\n 'Dette er dommen over Idretts-Trondheim': 164,\n 'Vil ha bybane i Trondheim': 165,\n 'Test av yoghurt og skyr med korn – hvilken type er sunnest?': 166,\n 'I 1987 fikk Norge tildelt noe merkelig. Et punktum og deretter bokstavene n og o. Døren til internett for alle var åpnet': 167,\n 'RBK-talent har fått sjelden betennelse i hjertet': 168,\n '- Vi er ikke et døgnåpent legekontor med drop-in tilbud': 169,\n 'Slik opplevde Svensson AZ-debuten': 170,\n 'Når legevakta gjør deg sykere': 171,\n 'Flagget Bjørgen fikk, har en helt spesiell historie. Den inkluderer Petter Northug for to år siden.': 172,\n 'Lokker nordmenn med 500 kroner for å se Skavlan': 173,\n 'Charlotte Kalla om rivalene fra Norge: «Jeg er så himla glad for at de norske løperne er så ydmyke»': 174,\n 'Her er Rosenborg-spillernes førsteinntrykk av Bendtner': 175,\n '«Tidlig en morgen kjørte en gravemaskin inn gjennom fengselsporten på Vollan»': 176,\n 'Elverum-ledelsen tar avstand fra taktikken som har rystet Håndball-Norge': 177,\n 'Premier League-stjerne hevder han og familien trues etter sparkingen av Claudio Ranieri': 178,\n 'Her kan du få påskehytte for 200 kroner døgnet': 179,\n 'Mener barna busses unødvendig': 180,\n 'Elise lever på 15 kroner dagen': 181,\n 'Bli med papegøyen Gaya på dyreaudition': 182,\n '- Viktig med en avklaring om det er lovstridig': 183,\n 'Mange stopper deler av kjøttimport fra Brasil midlertidig': 184,\n 'Får frie tøyler mot verdensstjernene': 185,\n 'Bio Eventyret': 186,\n 'Mye skrik - og kanskje vel mye ull': 187,\n 'NTNU-forelesere stopper studenter som stiller kritiske spørsmål': 188,\n 'Evakuerte hotell i Trondheim': 189,\n 'Skolejenter i kamp for nasjonen': 190,\n 'Før og nå: Tre gamle trondhjemsgårder sto for fall': 191,\n 'Sverre (14) sa aldri noe om at han slet': 192,\n 'Hoppkometen var svimmel da han satte utfor, og synet var nesten borte: - Det var helt uforsvarlig': 193,\n 'Lager mannegruppe i Verdal': 194,\n 'Fare for at stormen kan rive av takstein og takplater': 195,\n 'Trafikkuhell på Bjørndalsbrua': 196,\n 'Mener veien har trafikkfarlige humper': 197,\n 'Harry Hole med fornyet vitalitet': 198,\n 'Trumps grensemur: Ni meter høy og «vakker»': 199,\n 'Kan ta lang tid før siloen blir tømt': 200,\n 'Dyrt rødgrønt popkorn på kino': 201,\n 'Vil beholde familiens kontroll over Reinertsen': 202,\n 'Revurderer godteri-eierskap': 203,\n '- Jeg har ikke noe liv igjen': 204,\n 'Foreldrene angrer hver dag (PLUSS)': 205,\n '- Vi ser at denne saken er krevende for kvinnen': 206,\n '5,5 millioner i erstatning til mobbeoffer': 207,\n 'Forlik i mobbesaken i Malvik': 208,\n 'Vi må ikke glemme at barna lærer ved å leke': 209,\n 'Se hele topp 100-lista': 210,\n 'Solberg: Nå ser vi framover': 211,\n 'Da Eirik sluttet å puste reddet moren livet hans på kjøkkenbenken': 212,\n '22-åring skal ha tjent 23 millioner på ni måneder': 213,\n 'Adresseavisens «ekstreme manipulasjon»': 214,\n 'Slik lager du middag for to personer i syv dager til under 300 kroner': 215,\n 'Cecilie mener hun har løsningen for dem som «ikke tåler brød»': 216,\n 'Utbygger betalte to millioner for Ap-toppens bistand': 217,\n '23-åringen var Trondheims største talent - så falt han i fjorden': 218,\n 'Hva kjøper ungdommer i storefri? Vi har sjekket': 219,\n '- Det er uforståelig for meg at det går an å inngå slike avtaler': 220,\n 'Ap-Olsø hadde en skjult tomteavtale': 221,\n 'Vern barnet, ikke foreldrene': 222,\n 'Trygve Slagsvold Vedum har en teori om hvorfor folk tror han er kort': 223,\n 'Langrennssjef Tor-Arne Hetland tok ikke hintet da kona Guri ba ham med på date': 224,\n '-Fant brannstifter bevisstløs på do': 225,\n '- Dette gir grunnlag for etterforskning for korrupsjon': 226,\n 'Gravide Gunhild (21) får ikke fødselsforberedende kurs': 227,\n 'Flere søker seg til Helse- og oppvekstfag': 228,\n 'Som vekter i tolv år har jeg fått et ubehagelig innsyn i hva unge spiser i langfriminuttet': 229,\n 'Solgte båt han ikke eide tre ganger': 230,\n 'Fikk prissjokk: Skapene ble 50 prosent dyrere hos Skeidar': 231,\n 'Betalte 1,8 millioner - fikk aldri båten': 232,\n 'Keisersnittene går ned når jordmor er der hele tiden': 233,\n 'Bystyret trumfet gjennom den grønne streken': 234,\n 'BT: Trondheim går glipp av milliardfond': 235,\n 'Trondheim får prestisjekontor': 236,\n 'Tidligere Premier League-duo prøver seg i LSK': 237,\n 'Røffe tider i Lillestrøm: – Får nesten ikke blitt verre enn det var i fjor': 238,\n '- Jeg ble nesten kjørt ned av min egen henger': 239,\n 'Hund påkjørt i Stjørdal': 240,\n 'Minneord: Svein Asklund': 241,\n 'Minneord: Lars Othar Svaasand': 242,\n 'TIL-talent på vei tilbake etter å ha stagnert i 2016: - Har lagt bort tankene om utlandet': 243,\n '60 eiendommer kan bli tvangsdelt av ny superbusstrasé': 244,\n 'Her kan det bli trafikkaos på torsdag': 245,\n 'TILs tidligere assistkonge om å spille for rivalen: – Det blir artig å kjempe i toppen': 246,\n 'Ivanka Trump får kontor i Det hvite hus': 247,\n '- Adressa er en verdig konkurrent': 248,\n 'Stemmen fra tårnet': 249,\n 'Her blir Bjørn revet ut av den brennende bilen': 250,\n 'Dømt for å ha forgrepet seg på turkamerater etter at de hadde lagt seg for å sove': 251,\n 'Lege dømt til fem års fengsel for pasientovergrep': 252,\n 'Koteng om Olsø: «Kjære politikere, rydd opp i svineriet. Unngå å gjøre dette partipolitisk. Dette er alt for alvorlig til det»': 253,\n '- Du kan aldri plante en tanke om selvmord': 254,\n 'Hansa Borg kjøper halve Austmann Bryggeri': 255,\n 'Da Kaja (42) begynte med en ny type styrketrening, ble utholdenheten mye bedre': 256,\n 'Øker omsetninga med billigere svenskekrone': 257,\n 'Derfor kårer vi RBKs 100 beste spillere': 258,\n '250 superbusser i døgnet gjennom boligstrøk på Heimdal': 259,\n 'Northug hadde ti ganger høyere inntekt i fjor enn året før': 260,\n 'NTNU- ledelsen er for lite opptatt av hva Trondheim og universitetsledelsen kan utvikle i fellesskap': 261,\n 'Kværner har inngått milliardavtale': 262,\n 'Ny gigantkontrakt for Kværner Verdal': 263,\n 'Kværner Verdal er reddet': 264,\n 'Unge kvinner triumferte i Molde': 265,\n 'Minnes rockens falne helter med full fest': 266,\n 'Statoil vil investere inntil 55 milliarder i Sverdrup-feltet': 267,\n 'Julie tapte 500 000 kroner på ideen sin': 268,\n 'Sykehus fjernet bryster og eggstokker på feil grunnlag – fylkeslegen oppretter tilsynssak': 269,\n 'Trodde du det var mest kylling og pommes frites i «Syden»? Da må du tro om igjen.': 270,\n 'Charlotte og datteren spiser ikke raffinert, hvitt sukker: – Før hadde vi mye søtsug. Nå er det nesten borte.': 271,\n 'Talentet har kontrakt med Byåsen – får gå gratis til Larvik': 272,\n 'Tidligere geriljasoldat blir trolig Øst-Timors nye president': 273,\n 'Britt Kristin og Kim Roger solgte rubb og stubb og begynte på nytt': 274,\n 'Tove i Buvika vil ha noen gullkorn i hjemmet': 275,\n 'Vipers-spiller etter landslagssamling: – Et steg nærmere laget': 276,\n '«Spælle nå Creedence» på Sverresborg': 277,\n 'Kristoffer la om styrketreningen: - Nå løfter jeg vekter jeg bare kunne drømme om før': 278,\n 'E6 Oppdal': 279,\n 'E6 Korporal Bru, Sokndal': 280,\n 'E6 Berkåk': 281,\n 'E6 Snåsa': 282,\n 'Rengjør flere ganger i uka for å unngå svevestøv': 283,\n 'Alvorlig ulykke i tunnel i Lærdal': 284,\n 'Vil bruke rotenon mot gjedde i Orkdal': 285,\n 'FBI-tips førte til dom mot trondheimslærer': 286,\n 'Tvillingbrødrene hadde nettopp vunnet kampen. Javier dro hjem, mens Gabriel feiret seieren. De så hverandre aldri igjen.': 287,\n 'Supergitariste kommer - og 12 andre tips til kulturhelgen': 288,\n 'Hvilken bydel er rikest i Trondheim?': 289,\n 'Denne boligen kan sette prisrekord - igjen': 290,\n 'Her er de dyreste boligene solgt i Trondheim i 2015': 291,\n 'Denne Singsaker-villaen har steget ti millioner i verdi siden 2003': 292,\n 'En ansvarlig grønn strek': 293,\n 'Vil ikke ha flere vannscootere i Trondheimheimsfjorden': 294,\n 'Morsomme plakater i Trøndelag: «Biler som parkeres foran porten blir demontert og solgt til Polen».': 295,\n 'Hysterisk morsomme veiskilt i Trøndelag': 296,\n 'Historiske trondheimsbilder: Her er Trondheims første diskotek': 297,\n 'Historiske trondheimsbilder:': 298,\n 'Bendtner om RBKs prestasjon: – Vi kunne spilt klokere': 299,\n 'Adressa-glimt fra 1963': 300,\n 'Talentets scoringstall forbløffer: - Vi så ikke fremgangen komme, sier Brann-sjef': 301,\n 'Bendter om toppscorerpresset: - Det er et fint press, deilig om jeg lykkes': 302,\n 'Sats-medlemmer ber om at Johaug utestenges, men Bjørn Maaseide gjør et unntak: - Det går an å være medmenneskelig': 303,\n 'Test av havregrøt: Stor forskjell på sukkerinnholdet': 304,\n 'Biodrivstoff': 305,\n 'Idrettsildsjel fikk kongemedalje': 306,\n 'Brukbar/Blæst slår seg selv konkurs': 307,\n 'Derfor fikk ikke Brukbar/Blæst fornyet bevillingen': 308,\n 'Se de fantastiske bildene fra signingen i Trondheim': 309,\n 'EU: Urealistisk å gi Tyrkia EU-medlemskap': 310,\n 'Waage i permisjon foreslo Kystad ut av grønn strek': 311,\n 'Salmar-sjefen kjøpte Trondheims dyreste leilighet': 312,\n 'Nidaros-spillerne møtt med bluss etter nøkkelseieren': 313,\n '- Dere må hjelpe vennen min, det er den eneste vennen jeg har': 314,\n 'Kos deg med disse herlige gamle kjøretøyene': 315,\n 'Framskynder startdatoen for superbuss med 17 dager': 316,\n 'Håndballforbundet vil kalle inn Byåsen og Kolstad til møte': 317,\n 'Sjekk doningene som har besøkt Trøndelag': 318,\n 'På familiens 3000 mål store skogeiendom startet eventyret for Norges redningsmann. Dette er historien om Lars Lagerbäck.': 319,\n '- Det er fantastisk artig å drive med denne sporten': 320,\n 'Teknologimagasinet: Nå kommer nye lynladere, men den passer ikke elbilen du får i butikken i dag': 321,\n '- Dette er et bilde som norsk presse nesten aldri viser': 322,\n 'Pinlig tabbe for glemsk Klæbo: - Jeg tror ikke mamma er overrasket': 323,\n 'Riksvei 3 er åpnet igjen i Østerdalen': 324,\n 'Nå legger skiforbundet planen som skal gjøre Klæbo til verdens beste': 325,\n 'Solberg: Arbeidet med objektsikring har tatt for lang tid': 326,\n 'Henlegger terrorsak mot norsksomalier': 327,\n 'Skam-stjerne stjal showet på kvinnedagen': 328,\n 'Forskning: Denne styrketreningen gir dobbel effekt': 329,\n 'Barneombudet bekymret for barn i asylmottak': 330,\n 'De har eiendom i ti land og en formue på en halv milliard': 331,\n 'Var døden nær - nå spiller han fotball igjen': 332,\n 'Derfor bytter TIL-treneren to spillere i kapteinsteamet': 333,\n 'Rettssaken etter dødsbrannen på Øysand ble stoppet.': 334,\n 'Mann pågrepet med gullvarer i Trondheim': 335,\n '- Holder døren åpen for alle, bortsett fra Høyre og Frp': 336,\n 'To pågrepet etter Orly-angrep': 337,\n 'Russland mener FBI-sjefen skapte forvirring': 338,\n 'Ni av ti barn hadde barnehageplass i fjor': 339,\n '- Drapstiltalte fortalte at han brukte kneet mot halsen': 340,\n 'Olsøs e-post til Kystad om grønn strek tre uker før bygningsrådet': 341,\n 'Nidaros lekte med Kongsvinger: Én kamp unna eliteserien': 342,\n '15 hus i Odda evakuert etter rasfare': 343,\n 'Her kan du lese hele rapporten fra kommuneadvokaten': 344,\n 'Solberg: Var ikke klar over situasjonen med objektsikring': 345,\n '6.000 migranter reddet i Middelhavet': 346,\n 'Han blir ny NHO-topp i Trøndelag': 347,\n '«På tegninger av ansikt er ofte pannen det tomme feltet»': 348,\n 'Christian (22) omsetter for sju mill. fra gutterommet': 349,\n 'Sa opp jobben - åpnet to etasjers barneklesbutikk': 350,\n 'Ny eier åpner ny butikk på Nabocash': 351,\n 'Leker seg til millioner': 352,\n 'Banksjef og statsråd kan være aktuelle for NHO-toppjobben': 353,\n 'Slutter som NHO-sjef i Trøndelag': 354,\n 'Berit gjorde en oppdagelse på jobben - nå har den hentet inn 130 millioner': 355,\n 'Slik blir Reitans skole og slektsgård': 356,\n 'Skal ha vært på svindelraid fra Stjørdal til Otta': 357,\n 'Forbudt å kaste dette i naturen': 358,\n 'Dagbladet, VG og NRK sammen mot falske nyheter': 359,\n 'Kilder: Tillerson dropper NATO-møte, drar til Russland': 360,\n 'Det skjedde bilulykker for 40 år siden også': 361,\n 'Butikkeier Sonja ble svindlet av velkledde pengevekslere': 362,\n 'Økt salg av Ivanka Trump-produkter etter bråk': 363,\n 'Den forbannede plasten': 364,\n 'Plastposer i hval skaper store miljøbekymringer': 365,\n 'Her er trikset for å få bort det gamle bombrikkefestet': 366,\n 'Lukasjenko: Pågrepne i Hviterussland planla væpnede aksjoner': 367,\n 'Raja vil ha lukket høring om terrorsikring': 368,\n 'FN krever gransking av massakre på båtflyktninger': 369,\n 'Ingen av disse mener de vil rammes av lobbyforbudet': 370,\n 'Denne bygården er til salgs for 75 millioner kroner': 371,\n 'Kun 7 av 105 nye teknobedrifter i Trondheim har kvinnelig leder': 372,\n '- Det blir fyrverkeri': 373,\n 'Her er skøytebanene klare til bruk': 374,\n 'Her er elleveren din, Bruttern!': 375,\n 'Måtte rydde opp søppelberg etter studenter i Trondheim': 376,\n 'Her kom det 20 cm nysnø det siste døgnet': 377,\n '«Munken» som forsvant': 378,\n '- Chuck Berry var hyggelig, pratsom og full av humor': 379,\n 'Dette svarer Rune Olsø på kommuneadvokatens rapport': 380,\n 'Slipper elbilen rett på asfalten fra 20 meter': 381,\n 'Solberg: Ikke behagelig med hemmelighold': 382,\n 'Dette skjer i kontrollkomiteen i dag': 383,\n 'Frykter gammelt boligstrøk på Singsaker raseres av nye boliger': 384,\n 'Kommentar: Alle vil ha en tettere by, men det fører til konflikter': 385,\n 'Nordens største boligutvikler leter etter tomter i Trondheim': 386,\n 'Fire arrangementer du må få med deg': 387,\n 'Utbygger ødela hagen deres - nå får de 356 000 kroner i erstatning': 388,\n 'Sammen igjen etter 39 år': 389,\n 'Kulturministeren og guttekordirigenten har samme favorittsang når de synger julen inn': 390,\n 'Hyller gudfaren i Domen': 391,\n 'Stadig flere går på konsert i desember': 392,\n 'Norges Bank varsler forlenget rentefest': 393,\n '- Powerhouse er altfor høyt og stort': 394,\n 'En tekstmelding ødela planen for kvelden': 395,\n 'En gammel kriger går til ro': 396,\n 'Brende: Sør-Sudans ledere har skapt en massiv krise': 397,\n 'Kraftig økning i reisestøtten til kunstnere og kulturaktører': 398,\n 'Reitan kutter prisen på luksusleilighet': 399,\n 'Kometen Klæbo vant for andre dag på rad – sikret seier i minitouren etter målfoto': 400,\n 'Følg Kystad-saken i kontrollkomiteen': 401,\n 'Forren kunne blitt lagkamerat med Schweinsteiger i USA': 402,\n 'Verftet i Verdal får forsprang på ny storkontrakt': 403,\n 'Legende angriper Fourcades holdninger etter tabben: – Det er ikke riktig': 404,\n 'Verdenseliten tvinges til å bli grønne': 405,\n 'Kaller Vipers-keeper hjem: Får ikke spille finalen i Asia-mesterskapet': 406,\n 'Norge topper FN-liste over utvikling': 407,\n 'Adresseavisen er klaget inn til PFU for brudd på presseetiske regler': 408,\n 'Hentet inn 165 millioner kroner til trondheimsbank': 409,\n 'Ny rapport: Derfor vil Sanner slå sammen småkommuner': 410,\n 'Dagbladet, VG og NRK sammen om faktasjekk': 411,\n 'Foreldrene så Forfang hoppe 245,5 meter i Raw Air: – Foreldrehjertet banker voldsomt!': 412,\n 'Forfang fikk beklagelse av treneren etter hoppet som kan koste dyrt': 413,\n 'Rektor slo alarm om gjengoppgjør mellom ungdomsskoleelever': 414,\n 'Har mast i tre år for å få disse trærne beskjæret - i dag dukket Trondheim bydrift opp': 415,\n 'Mann tiltalt for grove overgrep i barnehagen': 416,\n 'Norge er verdens beste land å bo i': 417,\n 'Du tror det ikke før du før se det. Fotballhallen tar pusten fra alle': 418,\n 'FIS-topp tviler på at Canada er en VM-trussel for Trondheim': 419,\n 'Slapp elbilen rett på asfalten fra 20 meter': 420,\n 'Dansker som kjempet for Hitler på østfronten slipper tiltale': 421,\n 'Rekdal kaller landslagsuttaket en fallitterklæring: - Han har blitt oversett': 422,\n 'Tyrkia krever at USA opphever strenge regler for håndbagasje på fly': 423,\n 'Forfatter Colin Dexter er død, 86 år gammel': 424,\n 'Storbritannia vurderer forbud mot laptoper i håndbagasjen': 425,\n 'Disse bilene har flest feil': 426,\n '- Tomtevalget var bakgrunnen for at jeg måtte gå': 427,\n 'To menn pågrepet etter voldsepisode på Torget': 428,\n 'Innsmoen, Verdal': 429,\n 'E14 Teveldalen, Meråker': 430,\n '11 ting du trenger å vite om superbuss': 431,\n 'Ny hotellnatt for de evakuerte grunnet rasfare i Odda': 432,\n 'Troillungan sjarmerte alle': 433,\n '29-åring kåret til årets trener i Tyskland: – Han tar det til et helt nytt nivå': 434,\n 'Takket kona og kjæresten på TV. Her er hans spesielle forklaring.': 435,\n 'Nå blir toget billigere – om du ikke bor i Trondheim': 436,\n 'Dette er er avtalen mellom Kystad og Staur': 437,\n 'Gjenåpner ølkjeller fra 1600-tallet i Trondheim': 438,\n 'LADEMOEN/SOLSIDEN - Flott hjørneleilighet i 5.etg med standard fra 2012. Heis i bygget. Solrik balkong. Sentral og attraktiv beliggenhet. Kort vei til \"alt\". - BoligGuiden - adressa.no': 439,\n 'Bilbombe ved presidentpalasset i Mogadishu': 440,\n 'Jon Uthus slutter i NHO Trøndelag': 441,\n 'NTE har tapt millioner på feil før bygging av demning': 442,\n 'Musikk å le og bli rørt av': 443,\n 'Trondheim i endring': 444,\n 'Med dette taket skal Sindre i Malvik selge strøm tilbake til Trønderenergi': 445,\n 'Johannes Høsflot Klæbo ble tidenes yngste vinner av sprintcupen': 446,\n 'Oslo Børs på stedet hvil': 447,\n 'Solskjær vil ha Lagerbäcks jobb': 448,\n 'Johaug dro til USA etter FIS-anken: - Det er nesten ingen som vet hvem du er. Det er litt godt': 449,\n 'Naboene på Singsaker protesterte mot utbygging av nye boliger - nå har bygningsrådet bestemt seg': 450,\n 'Her spiller Bendtner med konkurrentens sko': 451,\n 'Så mye har Trondheim forandret seg': 452,\n '«Harmonien» som lå på Torvet': 453,\n 'Mattilsynet avdekket 42 tilfeller av alvorlig vanskjøtsel av dyr i fjor': 454,\n 'Fru Schøller &ndash; hvor ble hun av?': 455,\n 'Blir PC-en og mobilen tregere med årene?': 456,\n 'Moser-miljøet har gjort ny oppsiktsvekkende oppdagelse': 457,\n 'Vi sender direkte fra møtet i kontrollkomiteen': 458,\n 'Moser takker milliardærenke for milliongave': 459,\n 'Tar i bruk Mosers forskning for å forstå alzheimer': 460,\n 'Før og nå: Da Hornemannsgården var politistasjon': 461,\n 'Nedre Bakklandet 1963 og 2016': 462,\n 'Nedslående nyheter for Norges tidligere landslagskeper': 463,\n 'Romanen starter med et makabert funn i Nidelva': 464,\n 'Før og nå: Se Kjøpmannsgatas rikmannsgårder for 100 år siden': 465,\n 'Leter etter årsaken til at hjernecellene dør': 466,\n 'Se Torvet i 1960': 467,\n 'Vil etablere Alzheimer-senter i Trondheim': 468,\n 'Før og nå: Se Munkegata i 1925': 469,\n 'Britisk enke med milliongave til Mosers forskning': 470,\n 'NTE får millionavtale med nye Trøndelag': 471,\n 'Derfor fikk de prisen': 472,\n 'Storsatsing mot alternative fakta og falske nyheter': 473,\n 'Venstre kan sikre flertall for nye krav til politireformen': 474,\n 'Jenter trener seg syke': 475,\n '- Han hadde en fin humor': 476,\n '- Operaen i Olavshallen ble ødelagt av jabb og snakk fra publikum': 477,\n 'DNB undersøker transaksjoner i omfattende hvitvaskingssak': 478,\n 'Barnevernet tar barna dine. Det var noe av det første Shemsa hørte som ny i Norge.': 479,\n 'Gjør kontorjobben på butikkens bakrom': 480,\n '- Trærne tar all sol': 481,\n 'Guttekoret skal bli «Big in Japan»': 482,\n 'Vi fulgteKystad-saken i kontrollkomiteen': 483,\n 'Raw Air er genialt. NRK har skjønt det. Utøverne har skjønt det. Det gjenstår bare å overbevise publikum.': 484,\n 'Vi fulgte Kystad-saken i kontrollkomiteen': 485,\n 'Slik skal Lagerbäck gjøre Norge best i verden på ett område': 486,\n 'Dette norske hjemmet får skryt i internasjonale interiørmagasiner': 487,\n 'Flere betaler ikke kontingenten: – Vi ser gjennom fingrene for at alle skal få være med': 488,\n 'To menn pågrepet for svindeltourne': 489,\n 'Pensjonister som trapper opp': 490,\n 'Klubben skal ha spurt Lunde om hun ville beholde barnet': 491,\n '«Anno»-deltakerne kommer til Erkebispegården': 492,\n 'Slik skal dagligvarekjedene vinne Byåsen': 493,\n 'Det er litt mye nedsnakking av oss fastleger for tiden': 494,\n 'Dette er Kissi (101) sine råd til «evig liv»': 495,\n 'Denne superbussveien på 750 meter kan koste 50 millioner kroner': 496,\n '- Hvis du ikke er dritgod i alt, så er livet vanskelig': 497,\n '- Tabbe å kalle det superbuss': 498,\n 'Opera blir til i et gammelt lakkeringsverksted': 499,\n 'Det bekymrer oss at superbuss-alternativet vi sjåfører vurderte som det dårligste kan bli valgt': 500,\n 'Nye oppgaver hver uke: Vet du dette om Trondheim?': 501,\n 'Må betale for parkering på jobb': 502,\n 'Overraskende mye motorstøy fra avgiftsvinneren Mercedes-Benz E 350e': 503,\n '- Vi prøvde å rygge superbussen, men fikk det ikke til': 504,\n 'Ukjent 18-åring aktuell som midtstopper i Vikings generalprøve': 505,\n 'Byggekostnad superbuss: 500 mill. kroner dyrere enn først beregnet': 506,\n 'Legger ned 28 bussholdeplasser i Trondheim i 2019 - se om din holdeplass står på listen': 507,\n 'Stoltenberg: Godt møte med Mattis': 508,\n 'Titusener av passasjerer må bytte buss hver dag fra 2019': 509,\n 'Se opp for denne i Trondheim i dag': 510,\n 'Snart kommer Norges lengste buss til Trondheim': 511,\n 'Da Åsmund (6) ikke ville reise fra pappa, tok bussjåfør Niels saken i egne hender': 512,\n 'En hyllest til byens bussjåfører': 513,\n 'Når barnevernet blir en hjelpende hånd': 514,\n 'Kontrollkomiteen anbefaler å anmelde Olsø': 515,\n '67-åring dømt til over fire års fengsel for vold': 516,\n 'Fire trendretninger vi vil se i 2017: Hva kjenner du deg igjen i?': 517,\n 'Robbie Williams spiller i Granåsen i sommer': 518,\n 'Tre trender som ekspertene mener blir viktige for deg de neste årene': 519,\n 'Tre trender gir status nå – følger du en av dem?': 520,\n 'Ap: Anmeldelse kan oppfattes som politisk markering': 521,\n 'Ap i Trondheim vil ikke anmelde Olsø': 522,\n 'Snart kommer alle i Trøndelag til å få samme strømmåler som Bjørn': 523,\n '- Ekstremsport å få gjort om matjord': 524,\n 'Flinkiser som spiller som om livet står på spill': 525,\n 'Trondheim kommune driver bondefanging med sin måte å kreve inn piggdekkavgift på': 526,\n 'Skjulte opsjoner undergraver demokratiet': 527,\n '- De har forsynt seg med bager og fylt dem med merkevarer': 528,\n 'Emil Iversen: - Mange skiløpere er dumme': 529,\n 'Vemodig å selge familiebedriften som faren grunnla for 79 år siden': 530,\n '- Dere har håndtert det på beste vis, og vist omsorg også for de som ikke er her': 531,\n 'Det beste pinnekjøttet er ikke av sau': 532,\n 'Grønn strek kan virke mot sin hensikt': 533,\n 'Ap og H sikrer flertall for mindre vern av jord i Trondheim': 534,\n '«Alt tyder på at Olsø har sittet over skuldra til Waage og påvirket prosessen»': 535,\n 'Du er ikke slem hvis du snakker med barnet ditt om vekten': 536,\n 'Kavliprisvinner mener hjernetrening kan hindre demens og reparere en dårlig oppvekst': 537,\n '- Jeg var veldig opptatt av å være flink': 538,\n 'Nå blir det ny vei mellom Trondheim og Klæbu': 539,\n 'Lærer å lytte med stetoskop': 540,\n '«Sommeren min»': 541,\n '«Hvis jeg hadde fått beskjed om at jeg ikke kunne takle i fotball, hadde jeg bare ristet på hodet og ikke skjønt bæret»': 542,\n '- Holder barnebarna i den ene hånden og vinglasset i den andre': 543,\n '- God idé å slå sammen kraftselskaper i Trøndelag': 544,\n 'Mamma går på kafé, pappa leker': 545,\n 'Nedgang for Høyre og Frp i Bergen': 546,\n 'Stillhet – en truet ressurs': 547,\n 'Nils Arne Eggens barnebarn blir Ranheim-kaptein: – Genene merkes, for å si det sånn': 548,\n '- Jeg fikk et annet syn på homofile etter «Farmen»': 549,\n 'Vil ha to millioner mer for pimpet prestebolig': 550,\n 'Denne e-posten er viktig for helsa di': 551,\n 'Trondhjems trofaste skald': 552,\n '- Fotoboksen biter ikke hodet av deg': 553,\n 'Børsfall i USA': 554,\n 'Hopp-Norge henter inn værguru': 555,\n 'Nederlandsk studie: Smarte strømmålere viste store feil': 556,\n 'Derfor slettet «Paradise Hotel»- Martine alle bildene sine på Instagram': 557,\n 'Ny Helland-smell skremte supporterne': 558,\n '- Det ser litt underlig ut': 559,\n '- Det er veldig få som vet hvor hardt jeg egentlig jobber': 560,\n 'Teknologimagasinet: - Er Gets nye TV-tilbud verdt 6000 kroner i året? Vi har tatt en sniktitt': 561,\n 'Denne nye ordningen kan gi deg bedre pensjon': 562,\n 'Kulturprofilen Daniel Børmark (39) er død': 563,\n 'En helt spesiell stemme': 564,\n 'Kvinne tiltalt etter dødsulykke på Fosen': 565,\n 'Alvorlige anklager mot stortingspresidenten': 566,\n 'Fryktelig høyt, men ingen katastrofe': 567,\n 'Går sammen for å gjøre klubbene bedre': 568,\n 'På dette punktet er Norge og Sverige helt uenige med våre nærmeste naboer': 569,\n 'Nå haster det for Trondheim å få svar': 570,\n 'Utsikten til Munkholmen forsvinner': 571,\n '- Bussen skal konkurrere med privatbilen': 572,\n 'Etter Rio-skuffelsen er Norges mål å doble medaljefangsten i 2020: – Mye skal klaffe': 573,\n 'Tidligere Ap-politiker oppfordret til drap på profilert SV-politiker': 574,\n 'Mette-Marit bruker sønnens 20-års dag til å ta et oppgjør med norsk presse': 575,\n 'Brann-stopperen ville helst vært et helt annet sted i verden': 576,\n '22 tatt i laserkontroll i Trondheim': 577,\n 'Temperaturhopp og regn gir vanskelige kjøreforhold': 578,\n 'Tysklands utenriksminister forundret over Trumps nazi-uttalelse': 579,\n 'Byåsen fortsatt ikke enig med Vipers-aktuelle Hegh Arntzen': 580,\n 'Børsen etter Norges perfekte VM-åpning: «Han var krumtappen»': 581,\n '- Aldri sett noe liknende': 582,\n 'Med denne sikten dro mannen på kjøretur': 583,\n 'Ekspert: – Norge har en av verdens beste trenere': 584,\n 'Snakkisen på Hell': 585,\n 'André ville åpne et utested for voksen ungdom – nå er det hæla i taket': 586,\n 'Aldri har noen skutt bedre enn de norske kvinnene på en stafett': 587,\n 'Gamst Pedersen pendler fra Trondheim for å spille på TIL: – Å reise er en livsstil': 588,\n 'Foreldrepar tiltalt for grov mishandling av sine egne barn': 589,\n 'Fv755 Meltingen': 590,\n 'Tar selvkritikk etter alle skuddmissene': 591,\n 'Regjeringen innfører nytt våpenamnesti': 592,\n 'Historiske trondheimsbilder: Vet du hvor Hestskitveita, Helvedesveita, Kattveita og Pissveita er?': 593,\n 'Sandvik vil ha sin konkurrent som fylkesmann': 594,\n 'Blankisen fører til problemer for St. Olav - må avlyse operasjoner': 595,\n '17-åringen er blitt syk. Nå starter styret med å skaffe legeerklæringen': 596,\n 'To hunder tatt i forvaring etter funn av døde dyr': 597,\n 'Fem biler involvert i ulykke i Okstadbakken': 598,\n 'Tyrkiske tjenestefolk hoppet av i Norge': 599,\n 'Så langt kom gjødselet etter lekkasje i fraukjeller i Mosvik': 600,\n 'Real Madrid sikret utrolig rekord i siste minutt': 601,\n 'Helt ufrivillig kuppet den klønete nordmannen sendingen til filmstjernen. Nå er videoen sett av 600.000.': 602,\n 'Etterretningssjef: – Vi går ikke god for Trump-påstander': 603,\n 'Personbil mot trailer på E6 ved Hovin': 604,\n 'RBK-Svensson om overgangsvinduet: – Selvsagt spennende': 605,\n 'Videre varetektsfengsling for terrorsiktet 33-åring fra Verdal': 606,\n 'Så høyt sto vannet i Nidelva i formiddag': 607,\n '- Skuffelser og forventningspress forgifter ekteskapet': 608,\n '- Er det noe du skal vokte deg for i Trondheim, er det å være arrogant': 609,\n 'Trondheimsselskap skal levere ny buss-app': 610,\n 'Landets eldste – og yngste teater': 611,\n 'Landslagssjefen overrasket over Northugs valg': 612,\n 'Sørlending tilbake til røttene før Spektrum-debuten': 613,\n '- Fortsatt mange eksplosiver': 614,\n 'Lærer fradømt jobben': 615,\n 'Dette bryllupsbildet tatt på Byneset er blant de ti beste i verden': 616,\n 'NTNU får flere studieplasser for superlærere': 617,\n 'Molde-overgangen kollapset for Barli': 618,\n 'Politiet har tre ulike teorier etter dødsfallet i Tydal': 619,\n 'Avdøde skal ha hatt synlige skader': 620,\n 'Stine og samboeren ble frastjålet ting for opp mot 100 000 kroner': 621,\n 'FLATÅSEN - - BoligGuiden - adressa.no': 622,\n 'Medisin mot grått januarvær': 623,\n 'Øya - Romslig 4-roms i 2. etasje - Balkong - Sentralt - BoligGuiden - adressa.no': 624,\n 'Voldsom debatt etter at barnehagebarn var med på reinslakting': 625,\n 'Lastebil og personbil har kollidert ved Sandmoen': 626,\n 'Sentrum- Unik toppleilighet i hjertet av sentrum. Her er det parkeringskjeller med heis opp til leiligheten. Leiligheten har to soverom samt flere terrasser derunder en privat takterrasse med 360 grader utsikt. - BoligGuiden - adressa.no': 627,\n '- Det er et sjansespill å kjøre her': 628,\n 'Særdeles smakfull bryggeleilighet med høy standard fra 2007 som går over 2 plan med god takhøyde. Fjernvarme/v.vann er inkludert i felleskostnadene. Ingen fellesgjeld. Svært sentral beliggenhet med kort avstand til det meste. - BoligGuiden - adressa.no': 629,\n 'Arealeffektiv og sentrumsnær 2-roms i 3.etg med franskbalkong. - BoligGuiden - adressa.no': 630,\n 'Slutt på spesialbehandling av cubanere til USA': 631,\n '- Jeg holdt på å gå på veggen der inne': 632,\n 'Trafikken i gang igjen på E14': 633,\n 'Flere utenlandske kvinner vil til Norge for å ta tvillingabort': 634,\n '- Veldig alvorlig': 635,\n 'DIREKTE: Norge vant': 636,\n 'Dystre nyheter for Trondheim': 637,\n 'Regjeringen vil stille ut Picasso-utsmykning i nytt regjeringskvartal': 638,\n 'Kjempeskandale dersom påtalemakten taper': 639,\n 'Ett skritt nærmere ny skifest i Granåsen': 640,\n 'Finnene om Tour de Ski-løypa: - Dette er idiotisk og uverdig': 641,\n 'Emil Iversen sender bilder til Ustjugov på nettet': 642,\n 'Nok en bank setter opp renta på boliglån': 643,\n 'Trondheimsbank hever boliglånsrenta': 644,\n 'Du kan tape over én million i pensjon': 645,\n 'Henriksen: - Slutter ikke med FIFA etter dette': 646,\n 'Slik får du lavest mulig rente – tre enkle trinn': 647,\n 'Fem grafer som viser de største forskjellene i boligmarkedet': 648,\n 'Forskjellen mellom disse boligene er nesten 14,5 millioner': 649,\n 'Hekta på camping: Nå fremstår vognen som en fresh utgave av ei hytte på hjul': 650,\n '«Hva er en fjord?»': 651,\n 'Se hvordan alle verdens land selger seg som reisemål': 652,\n 'Bergerud: - Bedre når nervene forsvinner': 653,\n 'Dansker og svensker mer opptatt av egen mat': 654,\n 'Forlater Cherrox før det er for sent': 655,\n 'Publikum svikter Olavshallen': 656,\n 'Avis: Derfor møtte ikke Suarez opp til kåringen av Årets spiller': 657,\n 'Derfor mener han RBK bør kjøpe flere rene forsterkninger': 658,\n 'Familiefar frå Ågotnes vann 418.000 i poker-NM': 659,\n 'Når noen ikke er her lenger': 660,\n 'Tatt etter ulovlig politihacking': 661,\n 'Breiviks besøksvenn i vitneboksen': 662,\n 'Selvmordsbombing og rakettangrep i Syria': 663,\n 'I kveld stenges E6': 664,\n 'Trump kaster skygge over fredskonferanse i Paris': 665,\n 'Gutt fikk trestolpe i hodet på skolen': 666,\n 'Se den vanvittige forbikjøringen på E6': 667,\n 'E6 Klett': 668,\n 'Partienes strateger frykter Sp-Vedum mest': 669,\n 'Fikk én million nordmenn klistret til skjermen: Nå tror de på nytt eventyr': 670,\n 'Mette-Marit får støtte på Facebook etter presse-refs': 671,\n 'NTE vil slå sammen alle kraftselskapene i Trøndelag': 672,\n 'Kontakt redaksjonen': 673,\n 'Petter Northug ble beordret til å slutte med poker': 674,\n 'Trønderenergi tar over vindpark': 675,\n 'Minneord: Odd Johnsen': 676,\n 'Denne tunnelen stenges natt til fredag': 677,\n 'Omstridt leke trukket fra markedet i Europa og USA, i Norge selges de unna i januarsalget.': 678,\n 'Advokat kan ikke love at Breivik vil holde seg til saken': 679,\n 'Intens pengejakt pågår nå for å få skiheltene til Trondheim': 680,\n 'Berge om VM-debutanten: - Mann mot mann er han av de beste jeg vet om': 681,\n 'Casper Ruud vant igjen - er én seier unna å spille med verdensstjernene': 682,\n 'Nå kommer amerikanerne': 683,\n 'Her er millionsummen politiet fant på hotellrommet i Trondheim': 684,\n '1000 DAB-klager på to uker': 685,\n 'Canal Digital og Get varsler dyrere bredbånd for kabelkutterne': 686,\n 'Nå kan endelig Tydal skisenter sesongåpne': 687,\n 'Ber regjeringen forklare seg om amerikanske soldater': 688,\n 'Norske idrettsstjerner har angst for fremtiden: - Jeg kunne sitte med tårer i øynene utenfor jobben og skjelve': 689,\n 'Brian Noguera lærte norsk ved å lese gamle Bonytt-blader - elsker nordisk design': 690,\n 'Dette kan bli konsekvensene for deg med ett kraftselskap i Trøndelag': 691,\n '- Her vil amerikanerne stasjonere 300 marinesoldater': 692,\n 'Fortsatt samer i plenen?': 693,\n 'Her er de viktigste økonomi-nyhetene i år på fem minutter': 694,\n '«Hvor smart er det av restauranter å betrakte vegetarisme som en slags sykdom?»': 695,\n 'Politiet etterforsker katalogfirma fra Trondheim': 696,\n 'Kjæresten ligger i koma etter skiulykke: – Akkurat nå kjennes det meningsløst å konkurrere': 697,\n 'Må man dra ut laderen etter bruk?': 698,\n 'Hyllenes hemmelighet': 699,\n 'Slipper å forlate Utleira skole': 700,\n 'Trond og Aleksander har hatt julepynten framme i tre måneder. Nå er de klare for nyttårsfest.': 701,\n '- E6 sør vil trolig bli prioritert høyere enn i dag': 702,\n 'De flinkeste elevene må stort sett klare seg selv': 703,\n 'Han ble YouTube-kjendis som 15-åring. Nå kan Eivind Tangen (23) bli Norges VM-joker': 704,\n 'Brækhus kjøpte ring og bygget eget treningslokale': 705,\n '3T åpner to nye treningssenter': 706,\n 'Datatilsynet sier nei til digitalt grenseforsvar': 707,\n 'Ronny Deila mener VIF er blitt bygget som et luftslott. Nå vil han samle klubben': 708,\n 'Weng takket familien etter triumfen - snakket daglig med mamma': 709,\n 'Verpehøns skal få nytt etterliv': 710,\n '«Jeg venter på en fostermamma»': 711,\n 'Flest priser til fosterhjemskampanje': 712,\n 'Trønderenergi starter et stort entreprenørselskap': 713,\n 'Kan bioøkonomien redde verden?': 714,\n 'NVE vil ha dyrere strøm på ettermiddagen': 715,\n 'Filmen om pusen som hjalp hjemløs narkoman i London på rett kjøl': 716,\n 'Den ene døde av sykdom, den andre av skuffelse': 717,\n 'Kvinne (21) fikk førerkortet beslaglagt etter sladding på parkeringsplass': 718,\n 'Dette er årets interiørtrender': 719,\n 'Ekstremt glatte veger over hele Trøndelag': 720,\n 'Hedret gamle krigshelter på Værnes': 721,\n 'De vil ta parkene våre': 722,\n 'Se Forsvarets bilder fra Cold Response': 723,\n 'Hvor lenge kan de fortsette å møtes på denne måten?': 724,\n 'Margaret Berger ut av komfortsonen': 725,\n 'Aps oljekompromiss i nord er altfor tafatt': 726,\n '- Vårt mål er å forhindre at området blir en spøkelsesby': 727,\n 'Camilla synes hvitt er kjedelig': 728,\n 'Dette er yrkesgruppene hvor flest går av med AFP': 729,\n '- Vi har allerede en stamgjest': 730,\n 'Jubler for mildværet: - Dette er helt uvanlig': 731,\n 'Ser vi bort fra Midt-Nytt og VM i -97, har det trolig aldri vært så mye Trondheim på NRK som nå': 732,\n 'Cubanere får ikke lenger automatisk opphold i USA': 733,\n 'Hestad trening blir landsdekkende treningskjede': 734,\n 'Adresseavisens beste bilder fra november': 735,\n 'Historiske trondheimsbilder: Her danser de på Singsakertrikken': 736,\n '- Det er en ære å bli ny fylkesmann i Trøndelag': 737,\n 'Mevassvik helgarderer i kampen om å styre Trøndelag': 738,\n 'Jenssen eller Sandberg kan bli ny fylkesmann i samlet Trøndelag': 739,\n 'Politiet beholder flere tjenestesteder i Trøndelag': 740,\n 'Amazon Prime Video klar for Norge': 741,\n 'Netflix-advarselen mange nordmenn har gruet seg til er her': 742,\n 'Apple tilbakekaller Ipad-ladere': 743,\n '«Er det noe byen neppe trenger mer av, er det flere øl-, burger- og pizzasteder»': 744,\n 'Sjekk hvor mye du kan spise for å få i deg 200 kcal': 745,\n 'Lokal aksjonsgruppe kjemper mot amerikanske soldater på Værnes': 746,\n '- Satt under pulten i panikkangst': 747,\n 'Da Ane Brun sluttet å være redd': 748,\n '- Viktig at fylkesmannen bor og jobber på Steinkjer': 749,\n 'Sørtrønderen er fra Mars, nordtrønderen er fra Venus': 750,\n 'Adresseavisens beste bilder fra oktober': 751,\n 'Dette er Adresseavisens beste bilder fra september': 752,\n 'Dette er et historisk Byåsen-bilde': 753,\n 'Holder kun konsert tre utvalgte steder': 754,\n 'DAB-radioen Harriet trodde skulle vare livet ut, er allerede ubrukelig': 755,\n 'Storfavoritt og førsteønske': 756,\n 'Indisk storordre på Boeing-fly': 757,\n 'Slik skal Canal Digital holde på kabel-TV-kundene': 758,\n 'Magnus Moan: - Jeg fikk en tankevekker': 759,\n 'Hva sier loven om FBI-hackingen?': 760,\n 'Gikk til klubbpresidenten og krevde å få gå til RBK': 761,\n 'Slutter i Trondheimsolistene': 762,\n 'Her er torsdagens Pstereo-headliner': 763,\n 'Dette bandet gjør comeback 16 barn etter at de var på sitt mest aktive': 764,\n 'Ligg unna parken og kom dere til Midtbyen!': 765,\n 'Rema hiver ut flere Coca-Cola produkter': 766,\n 'Nå kan du finne «hemmelige» meldinger på Facebook messenger': 767,\n 'Remi Johansen fra Brann til Sandnes Ulf': 768,\n 'Kystverket: Mer forurensning i 2016': 769,\n 'Forsiktig optimisme etter Kypros-forhandlingene': 770,\n 'Skulle gjerne hatt lengre åpningstid for uteserveringen': 771,\n 'Så lenge må faktisk fotballfolket vente på nytt dekke i Skarphallen': 772,\n 'Seks av ti fosterbarn lever atskilt fra sine søsken': 773,\n 'Tre av fire vil vurdere å ta seg av barn de kjenner': 774,\n 'Lyset, mørket og alt imellom': 775,\n '- Miljøhensynet blir bare et alibi': 776,\n 'Pendler-Mjøen fra Melhus krever raskere tog til Steinkjer': 777,\n '126 lensmannskontorer blir lagt ned i Norge': 778,\n 'Nabo sjokkert og trist over det som har skjedd': 779,\n 'Oppsagt katolsk lege krever jobb og erstatning': 780,\n 'Legger ned 126 lennsmannskontor over hele landet': 781,\n 'Norges kaptein: - Presidenten kunne godt ha sagt at vi fortjente plassen': 782,\n 'Minneord: Tove Kari Viken': 783,\n 'Verdensstjernen Karabatic: - Veldig glad for at jeg blir lagkamerat med Sagosen': 784,\n 'Norge vil ha håndball-VM sammen med Danmark og Sverige i 2023': 785,\n 'Gladmelding til fansen: Gir AaFK klarsignal til å hente spiss': 786,\n 'Norge glemte å søke på håndball-VM i tide': 787,\n 'Historiske trondheimsbilder: Her ble det brå stopp for trikken på Buran': 788,\n 'Bil utfor veien på Rye': 789,\n 'Hitra-ordfører alvorlig skadd i ulykke i Snillfjord': 790,\n '126 lensmannskontorer blir lagt ned': 791,\n 'Dette er Adresseavisens beste bilder fra august': 792,\n 'Seiersbrølet i monsterbakken': 793,\n 'Dette er fordelen med å ha kveldsvakt': 794,\n 'Dette er de beste bildene fra april': 795,\n 'Dette er de beste bildene fra mai': 796,\n 'Dette er de beste bildene fra juni': 797,\n 'Månedens bilder for juli': 798,\n 'Historiske trondheimsbilder: Her tar Tyholttårnet form': 799,\n 'Han veide 160 kilo, var sykmeldt og sov over 20 timer i døgnet. Så kikket han ut stuevinduet.': 800,\n 'Bilder fra arkivet: Her herjer uvær og storm med Trøndelag': 801,\n 'Sundby vraker høyden før ski-VM': 802,\n '«Scarface» utlevert til Polen': 803,\n 'Historiske trøndelagsbilder: Denne ferske bileieren var ekstremt uheldig': 804,\n 'Minneord: Hjalmar Sørli': 805,\n 'Minneord: Camilla Østnor': 806,\n 'Minneord: Martin Sæterhaug': 807,\n 'Minneord: Einar Haugan': 808,\n 'Minneord: Alf Bartnes': 809,\n 'Minneord: Ingebrigt Sesseng Sirum': 810,\n 'Ti ting det er på tide å bli kvitt': 811,\n 'Minneord: Ørnulf Roar Øyen': 812,\n 'Minneord: Karl-Ludvig Reichelt': 813,\n 'Historiske trondheimsbilder: Her blir Byåsveien til': 814,\n 'Ny Xbox til Norge i august': 815,\n 'Nokia er tilbake som mobiltelefon': 816,\n 'Byutvikling med tannverk': 817,\n 'Historiske trondheimsbilder: Her har de gått tom for ribbe': 818,\n 'Nå gjelder de nye reglene for røykvarslere': 819,\n 'Fyller du vaskemaskinen full når du vasker?': 820,\n '3-roms selveier øverst og ytterst mot vest. Strålende sol- og utsiksforhold. Garasje tilhørende. - BoligGuiden - adressa.no': 821,\n 'Militært kjøretøy utfor veien ved Rye': 822,\n 'Restauranter i Trondheim fostrer kokker i verdensklasse': 823,\n 'Vennegjeng fra Trondheim måtte flykte fra flommen': 824,\n \"Bocuse d'Or-kokken fra Trondheim forbereder seg med Go'morgen\": 825,\n 'Hvarnes skal hjelpe Norge til nytt kokkegull': 826,\n 'Leservideo: Militært kjøretøy utfor veien på Rye': 827,\n 'Spillerjakten: Derfor er det så taust fra Viking': 828,\n 'Kampen som vekket kjepphøye norske spillere: – Første gang vi fikk et spark i ræva': 829,\n 'Henriksen ute i flere måneder etter Pogba-duell': 830,\n 'Rica Nidelven-kokk er verdensmester i kokkekunst': 831,\n 'Tar tare fra Stokkøya til kokke-VM': 832,\n 'Taper nesten 90 millioner på konkurs i Trondheims-selskap': 833,\n 'Tidenes mat-år i Trondheim': 834,\n 'Restauranteierne i Trondheim sikret seg millioninntekter i fjor': 835,\n 'NYHET: Trondheimsrebus - Del 1 Vet du dette om Trondheim?': 836,\n 'Her skal Top Chef-vinner Reneé åpne restauranten «Bula»': 837,\n 'Brutal finale på spektakulær krimtrilogi': 838,\n 'Dette er årets beste bøker': 839,\n 'Vant krimpris - men skuffer vår anmelder': 840,\n 'Eksklusivt hjemmehotell: Solgte alle møblene for å få hotellfølelsen hjemme': 841,\n 'Dette paret har skrevet en av årets beste thrillere': 842,\n 'Blir denne brødretrioen historisk?': 843,\n 'Diskerud etter TIL-trening: – Jeg er blitt glad i Tromsø': 844,\n 'Human Rights Watch: – Populisme truer demokratiet': 845,\n 'Trump lover egen hacking-rapport': 846,\n '- Har mest lyst til å flytte': 847,\n 'Mann (37) med moderate skader etter trafikkulykke på Skatval': 848,\n 'Her kommer Klett-tunnelen': 849,\n 'Dette var synet som møtte ansatte i Riis Bilglass': 850,\n 'Mange av disse skal bort': 851,\n 'E39 Hemnekjølen': 852,\n 'Hamed fikk skyte leirduer – nå henges han ut som terrorist': 853,\n 'Beklager uakseptabel oppførsel fra lærer': 854,\n 'Millionvekst i mikroøl: - Dette er ikke bare en hipp trend': 855,\n 'Mattis syntes det var et mas å kle seg i samekofta': 856,\n 'Å si at kristne julesanger fjernes, er tøv': 857,\n 'Kvinne topper for MDG - Nissen ikke på lista': 858,\n 'Astronauter bytter batterier på romstasjonen': 859,\n '- Skoleeier har ansvaret': 860,\n 'Størst økning i elbilsalget i Sør-Trøndelag': 861,\n 'Trondheim før og nå': 862,\n 'Ser du hvilket band dette er?': 863,\n 'Trondheim før og nå - Del 4': 864,\n 'Fotballkeeperen var så god at han ble tvunget til å spille basket': 865,\n 'Historiske trøndelagsbilder: Nazister på Torget': 866,\n 'Casper Ruud (18) med overraskende seier - ett steg nærmere hovedrunden i storturnering': 867,\n 'Frp vil rive Tryvannstårnet': 868,\n 'Psykisk lidelse hos hver fjerde amerikaner': 869,\n 'Svindal reiser hjem fra Wengen: - Jeg må finne ut av hva som er galt': 870,\n 'DIREKTE: Blir det mer norsk jubel?': 871,\n 'Marit Fostervold blir visepolitimester i Trøndelag': 872,\n 'Upopulær, men nødvendig politireform': 873,\n 'Nå har politimesteren bestemt seg for hvor i Trøndelag han vil ha politikontor': 874,\n 'Politimestrene får 300 mill. til fri disposisjon': 875,\n 'Håkon (25) klar for tøff dobbeltrolle: - Jeg ser for meg at mai blir veldig hektisk': 876,\n 'Ekspert: – Om du vil ned i vekt, er dette det første jeg anbefaler å kutte ut': 877,\n 'Her er trikset for at ikke kroppen skal forfalle når du passerer 40': 878,\n 'Se bilder fra trondheimsskolene i gamle dager': 879,\n 'Her nyter trønderne sola': 880,\n 'Historiske bilder: Bakklandet': 881,\n '15 millioner i erstatning til 20 saksøkere etter Kattmarka-raset': 882,\n 'Politiet etterlyser mann etter eldrebedrageri på Ellingsrud': 883,\n 'Hund reddet eier fra å fryse i hjel': 884,\n 'Avvikler 20 lensmanns- kontor i Trøndelag': 885,\n 'Noen som husker Gå-gå-veita?': 886,\n 'Selv om de har den beste tomta i byen, kan de aldri lene seg tilbake': 887,\n 'Her er superstjernene som har besøkt Trondheim': 888,\n '- Folk lurer veldig, ja': 889,\n 'Cecilie klarte ikke å prioritere treningen. Så fant hun et nytt konsept som passet perfekt.': 890,\n 'Tvangstanker årsak til den spesielle vanen': 891,\n 'Forbereder gigantisk Nato-øvelse i Midt-Norge': 892,\n 'Magnus Moan: - Min største utfordring noensinne': 893,\n 'Nå endrer vi matvanene. Det får ekspertene til å juble': 894,\n 'Han kan bli Bergens første Russland-proff': 895,\n '«Det ser ut til å bli et kult bygg. Området er ikke særlig fint fra før.»': 896,\n 'Breiviks besøksvenn: – Alle trenger noen å snakke med': 897,\n 'Malawi stenger landets største mediehus': 898,\n 'Dette sier han om Rosenborg-exiten': 899,\n 'Ny studie: En håndfull nøtter om dagen kan redde liv': 900,\n 'Kowalczyk med syrlig stikk til Norge etter den russiske bragden': 901,\n 'Takker Molde for at han fikk møte Arsenal-stjernene': 902,\n 'Brann-karrierene som ble store skuffelser': 903,\n 'Stortingspresidenten avviser kritikk': 904,\n 'Norsk studie om aktive barn får anerkjennelse i verdens største nyhetsmagasin': 905,\n 'To skadde etter dødsulykke på E39 får behandling ved St. Olav': 906,\n 'Trondheims bydeler': 907,\n 'Gøran trodde han hadde fått hjerteinfarkt, men hadde bare spist for mye fet mat': 908,\n 'Ti personer involvert i trafikkulykker på E39': 909,\n 'Nå har Naboen endelig åpnet dørene igjen': 910,\n 'Disse elleve tingene mener ekspertene at «alle» nordmenn har i hjemmet sitt': 911,\n 'St. Olav avlyser operasjoner for å få plass til influensasyke': 912,\n 'Konkurransetilsynet følger Rema-striden': 913,\n 'Harsem angrer på smørerkritikken. Nå vil hun hjem til badekaret': 914,\n 'Mack- og Rema-saken fortsetter': 915,\n 'Ønsker du å spise sunnere i 2017? Her er seks enkle råd.': 916,\n 'Slik gikk det med Folkehesten': 917,\n '- Vi var åtte stykker som lå på rom sammen. Etter det jeg vet, er det bare jeg som lever i dag': 918,\n 'Svendsen bekymret etter pallplass: - Føles ikke bra': 919,\n 'Hvis Fosen blir én kommune, kan de like gjerne bygge et Brasilia': 920,\n 'Øl fra Austmann og To Tårn kastet ut av Rema': 921,\n 'Løsning Den store julereisen': 922,\n 'Bilbrann i Malvik': 923,\n 'Slik blir Sivilforsvarets varslingssignal etter FM-slukkingen': 924,\n 'Byåsen - Glassverket': 925,\n '– Det er Italia på fire hjul': 926,\n 'Lanserer ny Tesla-konkurrent: 1000 hestekrefter og rekkevidde på 60 mil': 927,\n '- Responsen ble ikke helt som forventet': 928,\n 'Han er en av Norges ti beste forelesere': 929,\n '«Hun var en del av familien i 11 år. Plutselig er alt borte»': 930,\n 'Sundgot velger familien foran Hødd': 931,\n 'Seks døde personer funnet i Danmark': 932,\n 'Rystende om flyktningkrisen': 933,\n 'De første ulvene i Hedmark er radiomerket': 934,\n 'P4-profil fikk godkjent nytt politisk parti': 935,\n 'Mann nektet adgang til frisør i Bærum': 936,\n 'Advarer mot isbjørn på Svalbard': 937,\n 'Ødegaard settes rett på benken i sin nye klubb': 938,\n 'Kaos etter at E6 ble stengt': 939,\n 'Onsdag kan du miste NRK-kanaler på DAB – slik får du dem tilbake': 940,\n 'Trondheim har fått ny skøytebane': 941,\n 'Slik forklarer Kåre Ingebrigtsen spillerkjøpene': 942,\n 'Lurt av appen': 943,\n 'Åtte personer involvert i trafikkulykke på E39': 944,\n 'Gjest ble syk - politiet fant 1,5 millioner på hotellrom': 945,\n 'Justisdepartementet feller knusende dom over Chicago-politiet': 946,\n 'Nå får du flere dager å bestille nytt pass på': 947,\n 'En havnet i arresten etter slåsskampen - så ble den andre arrestert i en butikk': 948,\n 'Venstre leter etter Plan B': 949,\n 'Svensk misnøye med finnenes planer: Hedrer dopingtatt løper med statue': 950,\n 'Europas beste kvinnelige idrettsutøver til Bergen': 951,\n 'Heiberg ble lurt trill rundt: – Jeg var naiv': 952,\n 'Ada Hegerberg hyllet foreldrene på Idrettsgallaen: – Dere er store': 953,\n 'Viking-kapteinen ser cupfinalen hjemmefra': 954,\n '- Det er en ekstraordinær situasjon som jeg ikke har vært med på før': 955,\n 'Her kommer det en ny snarvei': 956,\n 'Slik blir det nye Klettkrysset': 957,\n 'Nytt uhell på E39': 958,\n 'Minnene etter oss handler svært sjelden om kroppen': 959,\n 'Den store forføreren er død': 960,\n 'Vil sende pasienter mellom Orkdal og Trondheim': 961,\n 'Leonard Cohens liv i bilder': 962,\n 'Ole Einar mente trening var meningsløst - slik ble han hektet på tredemølla': 963,\n 'Synes trønderne var uhøflige da hun kom til byen': 964,\n '460 studenter kommer til Isfit. 340 av dem trenger fremdeles et sted å bo': 965,\n 'Om byutvikling og Brattørkaia': 966,\n 'Klart for Powerhouse på Brattøra': 967,\n 'Aktor vil fengsle fire i Funcom-saken': 968,\n 'Maggio tar med seg tidligere NTNU-student på turné': 969,\n 'STORHAUGEN - Enebolig med sokkel. etablert boligområde med praktfull utsikt. - BoligGuiden - adressa.no': 970,\n 'Monsterhall? Hva med Powertrollet?': 971,\n 'Galt å bruke miljøargument for å få bygge høyt': 972,\n '- I stedet for å kaste bomber over IS, burde vi kaste bøker over dem': 973,\n 'Ung kvinne fra Libya får Studentenes fredspris': 974,\n 'Avslutter skisesongen i Åre med musikkfestival': 975,\n 'Det store pophjertet': 976,\n 'Stinn brakke da Litteraturhuset i Trondheim endelig åpnet i dag': 977,\n 'Dette bekymrer den norske smøresjefen': 978,\n 'Full oversikt: Disse fikk pris på Idrettsgallaen': 979,\n 'Antatt hovedmann bak Kardashian-ran siktet': 980,\n 'Her er legene som tror på mirakler': 981,\n '- Du skal måke fortauet utenfor huset ditt': 982,\n 'Barcelona-leder degradert etter Messi-kommentar': 983,\n 'Høyere lønn har fått fart i legevakta': 984,\n 'Søknadsfrist søndag kveld: - Vi ønsker å vise at alle kan gå på ski': 985,\n 'Nå skal barnehagene digitaliseres': 986,\n '«Det vanskeligste jeg har gjort, var å fortelle barna mine at jeg var alvorlig syk. Siden har de vært de beste pårørende jeg har kunnet ønske meg»': 987,\n 'Psykiater fengslet for seksualiserende bilder av barn': 988,\n 'Klara (7) er et av få Midtby-barn': 989,\n 'Dette er Hordalands beste 11-er': 990,\n 'Jakter på gode turstier i Trondheim': 991,\n '- Mye av det som er bra, er bra fordi det var flaks': 992,\n 'Fortetting med særpreg og kvalitet er særlig viktig for Midtbyen': 993,\n 'Dette er sommerens nye reisemål': 994,\n 'Norge hadde ikke sett slike hus før': 995,\n 'Bygget i Midtbyen får refs av byantikvaren': 996,\n 'Her er Reitans visjon for Midtbyen': 997,\n 'Politikerne bør lytte til Reitan, selv om ikke alt er like klokt': 998,\n '- Bygg boliger, ikke flere kontorer': 999,\n 'Kanonprisen er reddet': 1000,\n 'Fiber til folket': 1001,\n ...}"
     },
     "execution_count": 7,
     "metadata": {},
     "output_type": "execute_result"
    }
   ],
   "source": [
    "title_id_mapping"
   ]
  },
  {
   "cell_type": "code",
   "execution_count": 8,
   "metadata": {
    "ExecuteTime": {
     "start_time": "2023-04-18T15:25:54.639086Z",
     "end_time": "2023-04-18T15:25:54.716812Z"
    }
   },
   "outputs": [],
   "source": [
    "title_df[\"id\"] = title_df[\"id\"].apply(lambda x: x+2)"
   ]
  },
  {
   "cell_type": "code",
   "execution_count": 9,
   "metadata": {
    "ExecuteTime": {
     "start_time": "2023-04-18T15:25:54.699563Z",
     "end_time": "2023-04-18T15:25:54.812340Z"
    }
   },
   "outputs": [],
   "source": [
    "title_df.to_csv(\"title_id_mapping.csv\", index=False)\n",
    "#grouped_readings.to_csv(\"grouped_readings.csv\", index=False)"
   ]
  },
  {
   "cell_type": "code",
   "execution_count": 10,
   "metadata": {
    "ExecuteTime": {
     "start_time": "2023-04-18T15:25:54.813611Z",
     "end_time": "2023-04-18T15:25:56.023231Z"
    }
   },
   "outputs": [],
   "source": [
    "df[\"userId_mapped\"] = df[\"userId\"].apply(lambda x: user_id_mapping[x])\n",
    "df[\"title_mapped\"] = df[\"title\"].apply(lambda x: title_id_mapping[x])"
   ]
  },
  {
   "cell_type": "code",
   "execution_count": 11,
   "metadata": {
    "ExecuteTime": {
     "start_time": "2023-04-18T15:25:56.024118Z",
     "end_time": "2023-04-18T15:25:56.079527Z"
    }
   },
   "outputs": [
    {
     "data": {
      "text/plain": "       eventId                  category  activeTime  \\\n1     88128149         nyheter|trondheim         NaN   \n7   1470946317           nyheter|okonomi        34.0   \n8    620605796  100sport|idrettspolitikk         NaN   \n9   1543770103             pluss|nyheter         9.0   \n10   806901198             pluss|nyheter         NaN   \n\n                                                title  \\\n1   Dette er «Kystad-saken» i korte trekk - og sak...   \n7       Han er verdens tredje yngste dollarmilliardær   \n8       Her er den nye strategien etter VM-nederlaget   \n9   Ottervik mener Olsø burde informert om avtalen...   \n10               - I en så tragisk sak er alle tapere   \n\n                                                  url  \\\n1   http://adressa.no/nyheter/trondheim/2017/03/17...   \n7   http://adressa.no/nyheter/okonomi/2017/03/20/h...   \n8   http://adressa.no/100sport/idrettspolitikk/her...   \n9   http://adressa.no/pluss/nyheter/2017/03/20/ott...   \n10  http://adressa.no/pluss/nyheter/2017/03/20/i-e...   \n\n                                        userId               publishtime  \\\n1     cx:13675964253951224092221:1wgstmuzo9vjl  2017-03-17T17:39:35.000Z   \n7             cx:i7m47c8k5538rd2u:sdl67619goo2  2017-03-20T21:22:42.000Z   \n8      cx:1359724185772431277628:1bo1nngcb9hcr  2017-03-20T19:55:59.000Z   \n9     cx:13675964253951224092221:1wgstmuzo9vjl  2017-03-20T20:28:02.000Z   \n10  cx:y3ojtj1dah373vh26yiostnfa:3bnuogklc05m0  2017-03-20T18:20:54.000Z   \n\n          time                                documentId  userId_mapped  \\\n1   1490050820  ff9704d73150a5f14bbad454f4f6e0f252f49521              2   \n7   1490050834  8aa45aba5d8e2880410040c0f3c10c7a1e447475              3   \n8   1490050836  dff1b689590e3ba0ce21a88d3295af016c3abefd              4   \n9   1490050840  8dc005abfab091585891b0af8c9d9a627e4a2729              2   \n10  1490050845  9924065d1af706392a6d7bdaab34c3ba04259158              5   \n\n    title_mapped  \n1              2  \n7              3  \n8              4  \n9              5  \n10             6  ",
      "text/html": "<div>\n<style scoped>\n    .dataframe tbody tr th:only-of-type {\n        vertical-align: middle;\n    }\n\n    .dataframe tbody tr th {\n        vertical-align: top;\n    }\n\n    .dataframe thead th {\n        text-align: right;\n    }\n</style>\n<table border=\"1\" class=\"dataframe\">\n  <thead>\n    <tr style=\"text-align: right;\">\n      <th></th>\n      <th>eventId</th>\n      <th>category</th>\n      <th>activeTime</th>\n      <th>title</th>\n      <th>url</th>\n      <th>userId</th>\n      <th>publishtime</th>\n      <th>time</th>\n      <th>documentId</th>\n      <th>userId_mapped</th>\n      <th>title_mapped</th>\n    </tr>\n  </thead>\n  <tbody>\n    <tr>\n      <th>1</th>\n      <td>88128149</td>\n      <td>nyheter|trondheim</td>\n      <td>NaN</td>\n      <td>Dette er «Kystad-saken» i korte trekk - og sak...</td>\n      <td>http://adressa.no/nyheter/trondheim/2017/03/17...</td>\n      <td>cx:13675964253951224092221:1wgstmuzo9vjl</td>\n      <td>2017-03-17T17:39:35.000Z</td>\n      <td>1490050820</td>\n      <td>ff9704d73150a5f14bbad454f4f6e0f252f49521</td>\n      <td>2</td>\n      <td>2</td>\n    </tr>\n    <tr>\n      <th>7</th>\n      <td>1470946317</td>\n      <td>nyheter|okonomi</td>\n      <td>34.0</td>\n      <td>Han er verdens tredje yngste dollarmilliardær</td>\n      <td>http://adressa.no/nyheter/okonomi/2017/03/20/h...</td>\n      <td>cx:i7m47c8k5538rd2u:sdl67619goo2</td>\n      <td>2017-03-20T21:22:42.000Z</td>\n      <td>1490050834</td>\n      <td>8aa45aba5d8e2880410040c0f3c10c7a1e447475</td>\n      <td>3</td>\n      <td>3</td>\n    </tr>\n    <tr>\n      <th>8</th>\n      <td>620605796</td>\n      <td>100sport|idrettspolitikk</td>\n      <td>NaN</td>\n      <td>Her er den nye strategien etter VM-nederlaget</td>\n      <td>http://adressa.no/100sport/idrettspolitikk/her...</td>\n      <td>cx:1359724185772431277628:1bo1nngcb9hcr</td>\n      <td>2017-03-20T19:55:59.000Z</td>\n      <td>1490050836</td>\n      <td>dff1b689590e3ba0ce21a88d3295af016c3abefd</td>\n      <td>4</td>\n      <td>4</td>\n    </tr>\n    <tr>\n      <th>9</th>\n      <td>1543770103</td>\n      <td>pluss|nyheter</td>\n      <td>9.0</td>\n      <td>Ottervik mener Olsø burde informert om avtalen...</td>\n      <td>http://adressa.no/pluss/nyheter/2017/03/20/ott...</td>\n      <td>cx:13675964253951224092221:1wgstmuzo9vjl</td>\n      <td>2017-03-20T20:28:02.000Z</td>\n      <td>1490050840</td>\n      <td>8dc005abfab091585891b0af8c9d9a627e4a2729</td>\n      <td>2</td>\n      <td>5</td>\n    </tr>\n    <tr>\n      <th>10</th>\n      <td>806901198</td>\n      <td>pluss|nyheter</td>\n      <td>NaN</td>\n      <td>- I en så tragisk sak er alle tapere</td>\n      <td>http://adressa.no/pluss/nyheter/2017/03/20/i-e...</td>\n      <td>cx:y3ojtj1dah373vh26yiostnfa:3bnuogklc05m0</td>\n      <td>2017-03-20T18:20:54.000Z</td>\n      <td>1490050845</td>\n      <td>9924065d1af706392a6d7bdaab34c3ba04259158</td>\n      <td>5</td>\n      <td>6</td>\n    </tr>\n  </tbody>\n</table>\n</div>"
     },
     "execution_count": 11,
     "metadata": {},
     "output_type": "execute_result"
    }
   ],
   "source": [
    "df.head()"
   ]
  },
  {
   "cell_type": "code",
   "execution_count": 12,
   "metadata": {
    "ExecuteTime": {
     "start_time": "2023-04-18T15:25:56.081238Z",
     "end_time": "2023-04-18T15:25:56.243128Z"
    }
   },
   "outputs": [
    {
     "data": {
      "text/plain": "count    1.157137e+06\nmean     4.366536e+03\nstd      5.022278e+03\nmin      2.000000e+00\n25%      1.400000e+01\n50%      2.320000e+03\n75%      7.809000e+03\nmax      1.896000e+04\nName: title_mapped, dtype: float64"
     },
     "execution_count": 12,
     "metadata": {},
     "output_type": "execute_result"
    }
   ],
   "source": [
    "# describe userId_mapped and title_mapped\n",
    "df[\"userId_mapped\"].describe()\n",
    "df[\"title_mapped\"].describe()\n"
   ]
  },
  {
   "cell_type": "code",
   "execution_count": 13,
   "metadata": {
    "ExecuteTime": {
     "start_time": "2023-04-18T15:25:56.220474Z",
     "end_time": "2023-04-18T15:25:56.292699Z"
    }
   },
   "outputs": [
    {
     "name": "stdout",
     "output_type": "stream",
     "text": [
      "Number of unique users:  1000\n",
      "Number of unique titles:  18959\n"
     ]
    }
   ],
   "source": [
    "# number of unique users\n",
    "len(unique_users)\n",
    "\n",
    "# number of unique titles\n",
    "len(unique_titles)\n",
    "\n",
    "print(\"Number of unique users: \", len(unique_users))\n",
    "print(\"Number of unique titles: \", len(unique_titles))"
   ]
  },
  {
   "cell_type": "code",
   "execution_count": 14,
   "metadata": {
    "ExecuteTime": {
     "start_time": "2023-04-18T15:25:56.291224Z",
     "end_time": "2023-04-18T15:25:56.535318Z"
    }
   },
   "outputs": [],
   "source": [
    "df.dropna(subset=[\"activeTime\"], inplace=True)"
   ]
  },
  {
   "cell_type": "code",
   "execution_count": 15,
   "metadata": {
    "ExecuteTime": {
     "start_time": "2023-04-18T15:25:56.536629Z",
     "end_time": "2023-04-18T15:25:56.598574Z"
    }
   },
   "outputs": [
    {
     "data": {
      "text/plain": "       eventId         category  activeTime  \\\n7   1470946317  nyheter|okonomi        34.0   \n9   1543770103    pluss|nyheter         9.0   \n20  1934514084    pluss|nyheter        94.0   \n21  1311071552  nyheter|okonomi       110.0   \n22   467513049             None        76.0   \n\n                                                title  \\\n7       Han er verdens tredje yngste dollarmilliardær   \n9   Ottervik mener Olsø burde informert om avtalen...   \n20  Ottervik mener Olsø burde informert om avtalen...   \n21      Han er verdens tredje yngste dollarmilliardær   \n22  Så lønnsomt er det å «Harry-handle» på apotek ...   \n\n                                                  url  \\\n7   http://adressa.no/nyheter/okonomi/2017/03/20/h...   \n9   http://adressa.no/pluss/nyheter/2017/03/20/ott...   \n20  http://adressa.no/pluss/nyheter/2017/03/20/ott...   \n21  http://adressa.no/nyheter/okonomi/2017/03/20/h...   \n22  http://adressa.no/nyheter/okonomi/2017/03/20/m...   \n\n                                      userId               publishtime  \\\n7           cx:i7m47c8k5538rd2u:sdl67619goo2  2017-03-20T21:22:42.000Z   \n9   cx:13675964253951224092221:1wgstmuzo9vjl  2017-03-20T20:28:02.000Z   \n20          cx:i7m47c8k5538rd2u:sdl67619goo2  2017-03-20T20:28:02.000Z   \n21          cx:ikedcb0p8sirljmj:xru0bz72t9fy  2017-03-20T21:22:42.000Z   \n22  cx:13675964253951224092221:1wgstmuzo9vjl  2017-03-20T19:34:33.000Z   \n\n          time                                documentId  userId_mapped  \\\n7   1490050834  8aa45aba5d8e2880410040c0f3c10c7a1e447475              3   \n9   1490050840  8dc005abfab091585891b0af8c9d9a627e4a2729              2   \n20  1490050887  8dc005abfab091585891b0af8c9d9a627e4a2729              3   \n21  1490050889  8aa45aba5d8e2880410040c0f3c10c7a1e447475              8   \n22  1490050889  2c62bb35352f115ef9bca1aed891e476f5e7731f              2   \n\n    title_mapped  \n7              3  \n9              5  \n20             5  \n21             3  \n22             9  ",
      "text/html": "<div>\n<style scoped>\n    .dataframe tbody tr th:only-of-type {\n        vertical-align: middle;\n    }\n\n    .dataframe tbody tr th {\n        vertical-align: top;\n    }\n\n    .dataframe thead th {\n        text-align: right;\n    }\n</style>\n<table border=\"1\" class=\"dataframe\">\n  <thead>\n    <tr style=\"text-align: right;\">\n      <th></th>\n      <th>eventId</th>\n      <th>category</th>\n      <th>activeTime</th>\n      <th>title</th>\n      <th>url</th>\n      <th>userId</th>\n      <th>publishtime</th>\n      <th>time</th>\n      <th>documentId</th>\n      <th>userId_mapped</th>\n      <th>title_mapped</th>\n    </tr>\n  </thead>\n  <tbody>\n    <tr>\n      <th>7</th>\n      <td>1470946317</td>\n      <td>nyheter|okonomi</td>\n      <td>34.0</td>\n      <td>Han er verdens tredje yngste dollarmilliardær</td>\n      <td>http://adressa.no/nyheter/okonomi/2017/03/20/h...</td>\n      <td>cx:i7m47c8k5538rd2u:sdl67619goo2</td>\n      <td>2017-03-20T21:22:42.000Z</td>\n      <td>1490050834</td>\n      <td>8aa45aba5d8e2880410040c0f3c10c7a1e447475</td>\n      <td>3</td>\n      <td>3</td>\n    </tr>\n    <tr>\n      <th>9</th>\n      <td>1543770103</td>\n      <td>pluss|nyheter</td>\n      <td>9.0</td>\n      <td>Ottervik mener Olsø burde informert om avtalen...</td>\n      <td>http://adressa.no/pluss/nyheter/2017/03/20/ott...</td>\n      <td>cx:13675964253951224092221:1wgstmuzo9vjl</td>\n      <td>2017-03-20T20:28:02.000Z</td>\n      <td>1490050840</td>\n      <td>8dc005abfab091585891b0af8c9d9a627e4a2729</td>\n      <td>2</td>\n      <td>5</td>\n    </tr>\n    <tr>\n      <th>20</th>\n      <td>1934514084</td>\n      <td>pluss|nyheter</td>\n      <td>94.0</td>\n      <td>Ottervik mener Olsø burde informert om avtalen...</td>\n      <td>http://adressa.no/pluss/nyheter/2017/03/20/ott...</td>\n      <td>cx:i7m47c8k5538rd2u:sdl67619goo2</td>\n      <td>2017-03-20T20:28:02.000Z</td>\n      <td>1490050887</td>\n      <td>8dc005abfab091585891b0af8c9d9a627e4a2729</td>\n      <td>3</td>\n      <td>5</td>\n    </tr>\n    <tr>\n      <th>21</th>\n      <td>1311071552</td>\n      <td>nyheter|okonomi</td>\n      <td>110.0</td>\n      <td>Han er verdens tredje yngste dollarmilliardær</td>\n      <td>http://adressa.no/nyheter/okonomi/2017/03/20/h...</td>\n      <td>cx:ikedcb0p8sirljmj:xru0bz72t9fy</td>\n      <td>2017-03-20T21:22:42.000Z</td>\n      <td>1490050889</td>\n      <td>8aa45aba5d8e2880410040c0f3c10c7a1e447475</td>\n      <td>8</td>\n      <td>3</td>\n    </tr>\n    <tr>\n      <th>22</th>\n      <td>467513049</td>\n      <td>None</td>\n      <td>76.0</td>\n      <td>Så lønnsomt er det å «Harry-handle» på apotek ...</td>\n      <td>http://adressa.no/nyheter/okonomi/2017/03/20/m...</td>\n      <td>cx:13675964253951224092221:1wgstmuzo9vjl</td>\n      <td>2017-03-20T19:34:33.000Z</td>\n      <td>1490050889</td>\n      <td>2c62bb35352f115ef9bca1aed891e476f5e7731f</td>\n      <td>2</td>\n      <td>9</td>\n    </tr>\n  </tbody>\n</table>\n</div>"
     },
     "execution_count": 15,
     "metadata": {},
     "output_type": "execute_result"
    }
   ],
   "source": [
    "df.head()\n"
   ]
  },
  {
   "cell_type": "code",
   "execution_count": 16,
   "metadata": {
    "ExecuteTime": {
     "start_time": "2023-04-18T15:25:56.597933Z",
     "end_time": "2023-04-18T15:25:56.718717Z"
    }
   },
   "outputs": [],
   "source": [
    "from BERT.Transformer import RecommendationTransformer\n",
    "from BERT.Dataset import BertDataset\n",
    "from torch.utils.data import DataLoader"
   ]
  },
  {
   "cell_type": "code",
   "execution_count": 17,
   "metadata": {
    "ExecuteTime": {
     "start_time": "2023-04-18T15:25:56.648481Z",
     "end_time": "2023-04-18T15:25:56.720071Z"
    }
   },
   "outputs": [
    {
     "data": {
      "text/plain": "18959"
     },
     "execution_count": 17,
     "metadata": {},
     "output_type": "execute_result"
    }
   ],
   "source": [
    "len(unique_titles)"
   ]
  },
  {
   "cell_type": "code",
   "execution_count": 18,
   "metadata": {
    "ExecuteTime": {
     "start_time": "2023-04-18T15:25:56.707860Z",
     "end_time": "2023-04-18T15:25:57.328946Z"
    }
   },
   "outputs": [],
   "source": [
    "model = RecommendationTransformer(\n",
    "    len(unique_titles) + 2,\n",
    "    num_pos=128,\n",
    ")"
   ]
  },
  {
   "cell_type": "code",
   "execution_count": 19,
   "metadata": {
    "ExecuteTime": {
     "start_time": "2023-04-18T15:25:57.330494Z",
     "end_time": "2023-04-18T15:25:57.386365Z"
    }
   },
   "outputs": [
    {
     "data": {
      "text/plain": "RecommendationTransformer(\n  (encoder): Encoder(\n    (word_embedding): Embedding(18961, 256, padding_idx=0)\n    (positional_encoding): PositionalEncoder()\n    (dropout): Dropout(p=0.1, inplace=False)\n    (layer_stack): ModuleList(\n      (0): EncoderLayer(\n        (slf_attn): MultiHeadAttention(\n          (to_q): Linear(in_features=256, out_features=1024, bias=False)\n          (to_k): Linear(in_features=256, out_features=1024, bias=False)\n          (to_v): Linear(in_features=256, out_features=1024, bias=False)\n          (dropout): Dropout(p=0.1, inplace=False)\n          (union): Linear(in_features=1024, out_features=256, bias=False)\n          (attn): ScaledDotProductAttention(\n            (dropout): Dropout(p=0.1, inplace=False)\n          )\n          (layer_norm): LayerNorm((256,), eps=1e-06, elementwise_affine=True)\n        )\n        (pos_ffn): PositionWiseFeedForward(\n          (ff): Sequential(\n            (0): LayerNorm((256,), eps=1e-06, elementwise_affine=True)\n            (1): Linear(in_features=256, out_features=1024, bias=True)\n            (2): GELU(approximate='none')\n            (3): Linear(in_features=1024, out_features=256, bias=True)\n            (4): Dropout(p=0.1, inplace=False)\n          )\n        )\n      )\n      (1): EncoderLayer(\n        (slf_attn): MultiHeadAttention(\n          (to_q): Linear(in_features=256, out_features=1024, bias=False)\n          (to_k): Linear(in_features=256, out_features=1024, bias=False)\n          (to_v): Linear(in_features=256, out_features=1024, bias=False)\n          (dropout): Dropout(p=0.1, inplace=False)\n          (union): Linear(in_features=1024, out_features=256, bias=False)\n          (attn): ScaledDotProductAttention(\n            (dropout): Dropout(p=0.1, inplace=False)\n          )\n          (layer_norm): LayerNorm((256,), eps=1e-06, elementwise_affine=True)\n        )\n        (pos_ffn): PositionWiseFeedForward(\n          (ff): Sequential(\n            (0): LayerNorm((256,), eps=1e-06, elementwise_affine=True)\n            (1): Linear(in_features=256, out_features=1024, bias=True)\n            (2): GELU(approximate='none')\n            (3): Linear(in_features=1024, out_features=256, bias=True)\n            (4): Dropout(p=0.1, inplace=False)\n          )\n        )\n      )\n      (2): EncoderLayer(\n        (slf_attn): MultiHeadAttention(\n          (to_q): Linear(in_features=256, out_features=1024, bias=False)\n          (to_k): Linear(in_features=256, out_features=1024, bias=False)\n          (to_v): Linear(in_features=256, out_features=1024, bias=False)\n          (dropout): Dropout(p=0.1, inplace=False)\n          (union): Linear(in_features=1024, out_features=256, bias=False)\n          (attn): ScaledDotProductAttention(\n            (dropout): Dropout(p=0.1, inplace=False)\n          )\n          (layer_norm): LayerNorm((256,), eps=1e-06, elementwise_affine=True)\n        )\n        (pos_ffn): PositionWiseFeedForward(\n          (ff): Sequential(\n            (0): LayerNorm((256,), eps=1e-06, elementwise_affine=True)\n            (1): Linear(in_features=256, out_features=1024, bias=True)\n            (2): GELU(approximate='none')\n            (3): Linear(in_features=1024, out_features=256, bias=True)\n            (4): Dropout(p=0.1, inplace=False)\n          )\n        )\n      )\n      (3): EncoderLayer(\n        (slf_attn): MultiHeadAttention(\n          (to_q): Linear(in_features=256, out_features=1024, bias=False)\n          (to_k): Linear(in_features=256, out_features=1024, bias=False)\n          (to_v): Linear(in_features=256, out_features=1024, bias=False)\n          (dropout): Dropout(p=0.1, inplace=False)\n          (union): Linear(in_features=1024, out_features=256, bias=False)\n          (attn): ScaledDotProductAttention(\n            (dropout): Dropout(p=0.1, inplace=False)\n          )\n          (layer_norm): LayerNorm((256,), eps=1e-06, elementwise_affine=True)\n        )\n        (pos_ffn): PositionWiseFeedForward(\n          (ff): Sequential(\n            (0): LayerNorm((256,), eps=1e-06, elementwise_affine=True)\n            (1): Linear(in_features=256, out_features=1024, bias=True)\n            (2): GELU(approximate='none')\n            (3): Linear(in_features=1024, out_features=256, bias=True)\n            (4): Dropout(p=0.1, inplace=False)\n          )\n        )\n      )\n      (4): EncoderLayer(\n        (slf_attn): MultiHeadAttention(\n          (to_q): Linear(in_features=256, out_features=1024, bias=False)\n          (to_k): Linear(in_features=256, out_features=1024, bias=False)\n          (to_v): Linear(in_features=256, out_features=1024, bias=False)\n          (dropout): Dropout(p=0.1, inplace=False)\n          (union): Linear(in_features=1024, out_features=256, bias=False)\n          (attn): ScaledDotProductAttention(\n            (dropout): Dropout(p=0.1, inplace=False)\n          )\n          (layer_norm): LayerNorm((256,), eps=1e-06, elementwise_affine=True)\n        )\n        (pos_ffn): PositionWiseFeedForward(\n          (ff): Sequential(\n            (0): LayerNorm((256,), eps=1e-06, elementwise_affine=True)\n            (1): Linear(in_features=256, out_features=1024, bias=True)\n            (2): GELU(approximate='none')\n            (3): Linear(in_features=1024, out_features=256, bias=True)\n            (4): Dropout(p=0.1, inplace=False)\n          )\n        )\n      )\n      (5): EncoderLayer(\n        (slf_attn): MultiHeadAttention(\n          (to_q): Linear(in_features=256, out_features=1024, bias=False)\n          (to_k): Linear(in_features=256, out_features=1024, bias=False)\n          (to_v): Linear(in_features=256, out_features=1024, bias=False)\n          (dropout): Dropout(p=0.1, inplace=False)\n          (union): Linear(in_features=1024, out_features=256, bias=False)\n          (attn): ScaledDotProductAttention(\n            (dropout): Dropout(p=0.1, inplace=False)\n          )\n          (layer_norm): LayerNorm((256,), eps=1e-06, elementwise_affine=True)\n        )\n        (pos_ffn): PositionWiseFeedForward(\n          (ff): Sequential(\n            (0): LayerNorm((256,), eps=1e-06, elementwise_affine=True)\n            (1): Linear(in_features=256, out_features=1024, bias=True)\n            (2): GELU(approximate='none')\n            (3): Linear(in_features=1024, out_features=256, bias=True)\n            (4): Dropout(p=0.1, inplace=False)\n          )\n        )\n      )\n    )\n    (layer_norm): LayerNorm((256,), eps=1e-06, elementwise_affine=True)\n  )\n  (rec): Linear(in_features=256, out_features=18961, bias=True)\n)"
     },
     "execution_count": 19,
     "metadata": {},
     "output_type": "execute_result"
    }
   ],
   "source": [
    "model"
   ]
  },
  {
   "cell_type": "code",
   "execution_count": 20,
   "metadata": {
    "ExecuteTime": {
     "start_time": "2023-04-18T15:25:57.389158Z",
     "end_time": "2023-04-18T15:54:20.607818Z"
    }
   },
   "outputs": [
    {
     "name": "stdout",
     "output_type": "stream",
     "text": [
      "Epoch 1\n",
      "loader: <torch.utils.data.dataloader.DataLoader object at 0x7fd0c954f640>\n"
     ]
    },
    {
     "name": "stderr",
     "output_type": "stream",
     "text": [
      "100%|██████████| 32/32 [02:46<00:00,  5.19s/it]\n"
     ]
    },
    {
     "name": "stdout",
     "output_type": "stream",
     "text": [
      "Train loss: 8.598506271839142, Train accuracy: 0.25585365605934013\n",
      "Epoch 2\n",
      "loader: <torch.utils.data.dataloader.DataLoader object at 0x7fd0c954f640>\n"
     ]
    },
    {
     "name": "stderr",
     "output_type": "stream",
     "text": [
      "100%|██████████| 32/32 [02:48<00:00,  5.27s/it]\n"
     ]
    },
    {
     "name": "stdout",
     "output_type": "stream",
     "text": [
      "Train loss: 7.403864204883575, Train accuracy: 0.32088457824449107\n",
      "Epoch 3\n",
      "loader: <torch.utils.data.dataloader.DataLoader object at 0x7fd0c954f640>\n"
     ]
    },
    {
     "name": "stderr",
     "output_type": "stream",
     "text": [
      "100%|██████████| 32/32 [03:00<00:00,  5.65s/it]\n"
     ]
    },
    {
     "name": "stdout",
     "output_type": "stream",
     "text": [
      "Train loss: 7.1712497770786285, Train accuracy: 0.3237322490893984\n",
      "Epoch 4\n",
      "loader: <torch.utils.data.dataloader.DataLoader object at 0x7fd0c954f640>\n"
     ]
    },
    {
     "name": "stderr",
     "output_type": "stream",
     "text": [
      "100%|██████████| 32/32 [03:17<00:00,  6.18s/it]\n"
     ]
    },
    {
     "name": "stdout",
     "output_type": "stream",
     "text": [
      "Train loss: 7.067915290594101, Train accuracy: 0.3253031548136158\n",
      "Epoch 5\n",
      "loader: <torch.utils.data.dataloader.DataLoader object at 0x7fd0c954f640>\n"
     ]
    },
    {
     "name": "stderr",
     "output_type": "stream",
     "text": [
      "100%|██████████| 32/32 [03:10<00:00,  5.95s/it]\n"
     ]
    },
    {
     "name": "stdout",
     "output_type": "stream",
     "text": [
      "Train loss: 7.022361218929291, Train accuracy: 0.32208401839430756\n",
      "Epoch 6\n",
      "loader: <torch.utils.data.dataloader.DataLoader object at 0x7fd0c954f640>\n"
     ]
    },
    {
     "name": "stderr",
     "output_type": "stream",
     "text": [
      "100%|██████████| 32/32 [02:53<00:00,  5.41s/it]\n"
     ]
    },
    {
     "name": "stdout",
     "output_type": "stream",
     "text": [
      "Train loss: 6.938111037015915, Train accuracy: 0.3226768149718477\n",
      "Epoch 7\n",
      "loader: <torch.utils.data.dataloader.DataLoader object at 0x7fd0c954f640>\n"
     ]
    },
    {
     "name": "stderr",
     "output_type": "stream",
     "text": [
      "100%|██████████| 32/32 [02:38<00:00,  4.97s/it]\n"
     ]
    },
    {
     "name": "stdout",
     "output_type": "stream",
     "text": [
      "Train loss: 6.889912560582161, Train accuracy: 0.3191020254898414\n",
      "Epoch 8\n",
      "loader: <torch.utils.data.dataloader.DataLoader object at 0x7fd0c954f640>\n"
     ]
    },
    {
     "name": "stderr",
     "output_type": "stream",
     "text": [
      "100%|██████████| 32/32 [02:40<00:00,  5.02s/it]\n"
     ]
    },
    {
     "name": "stdout",
     "output_type": "stream",
     "text": [
      "Train loss: 6.805986702442169, Train accuracy: 0.32037224813448173\n",
      "Epoch 9\n",
      "loader: <torch.utils.data.dataloader.DataLoader object at 0x7fd0c954f640>\n"
     ]
    },
    {
     "name": "stderr",
     "output_type": "stream",
     "text": [
      "100%|██████████| 32/32 [02:30<00:00,  4.69s/it]\n"
     ]
    },
    {
     "name": "stdout",
     "output_type": "stream",
     "text": [
      "Train loss: 6.7381380051374435, Train accuracy: 0.32032801692644974\n",
      "Epoch 10\n",
      "loader: <torch.utils.data.dataloader.DataLoader object at 0x7fd0c954f640>\n"
     ]
    },
    {
     "name": "stderr",
     "output_type": "stream",
     "text": [
      "100%|██████████| 32/32 [02:26<00:00,  4.57s/it]\n"
     ]
    },
    {
     "name": "stdout",
     "output_type": "stream",
     "text": [
      "Train loss: 6.624239265918732, Train accuracy: 0.3263190763754171\n"
     ]
    }
   ],
   "source": [
    "from BERT.Trainer import trainer\n",
    "\n",
    "trainer(\n",
    "    group_column=\"userId_mapped\",\n",
    "    data_column=\"title_mapped\",\n",
    "    model=model,\n",
    "    data=df,\n",
    "    optimizer=torch.optim.Adam,\n",
    "    train_history=128,\n",
    "    epochs=10,\n",
    ")"
   ]
  },
  {
   "cell_type": "code",
   "execution_count": 20,
   "metadata": {
    "ExecuteTime": {
     "start_time": "2023-04-18T15:54:20.570363Z",
     "end_time": "2023-04-18T15:54:20.659625Z"
    }
   },
   "outputs": [],
   "source": []
  }
 ],
 "metadata": {
  "kernelspec": {
   "display_name": "Python 3 (ipykernel)",
   "language": "python",
   "name": "python3"
  },
  "language_info": {
   "codemirror_mode": {
    "name": "ipython",
    "version": 3
   },
   "file_extension": ".py",
   "mimetype": "text/x-python",
   "name": "python",
   "nbconvert_exporter": "python",
   "pygments_lexer": "ipython3",
   "version": "3.9.16"
  }
 },
 "nbformat": 4,
 "nbformat_minor": 1
}
