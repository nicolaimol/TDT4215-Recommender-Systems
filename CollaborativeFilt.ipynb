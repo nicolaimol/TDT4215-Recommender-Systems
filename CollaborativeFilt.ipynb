{
 "cells": [
  {
   "cell_type": "code",
   "execution_count": null,
   "id": "0d5306ab",
   "metadata": {
    "scrolled": true
   },
   "outputs": [
    {
     "name": "stdout",
     "output_type": "stream",
     "text": [
      "\n",
      "Recommendation based on MF...\n"
     ]
    },
    {
     "name": "stderr",
     "output_type": "stream",
     "text": [
      "C:\\Users\\jenny\\OneDrive\\Documents\\Datatek\\V23\\TDT4215 Anbefalingsystemer\\TDT4215_Recommender-Systems\\project_example.py:82: FutureWarning: Not prepending group keys to the result index of transform-like apply. In the future, the group keys will be included in the index, regardless of whether the applied function returns a like-indexed object.\n",
      "To preserve the previous behavior, use\n",
      "\n",
      "\t>>> .groupby(..., group_keys=False)\n",
      "\n",
      "To adopt the future behavior and silence this warning, use \n",
      "\n",
      "\t>>> .groupby(..., group_keys=True)\n",
      "  df['activeTime_norm'] = df.groupby('userId')['activeTime'].apply(lambda x: (x - x.mean()) / x.std()) # normalize activeTime for each user\n"
     ]
    },
    {
     "name": "stdout",
     "output_type": "stream",
     "text": [
      "Iteration: 1\n",
      "Train mse: 0.8268033161962344\n",
      "Test mse: 0.9933164541983504\n",
      "Iteration: 2\n",
      "Train mse: 0.729870200197297\n",
      "Test mse: 0.9759038415584933\n",
      "Iteration: 5\n",
      "Train mse: 0.7049363318023104\n",
      "Test mse: 0.9723793201430174\n",
      "Iteration: 10\n",
      "Train mse: 0.7027184016429127\n",
      "Test mse: 0.9716671814288582\n",
      "Iteration: 25\n"
     ]
    }
   ],
   "source": [
    "import os\n",
    "import json\n",
    "import pandas as pd\n",
    "from numpy.linalg import solve\n",
    "from sklearn.metrics import mean_squared_error\n",
    "import numpy as np  \n",
    "    \n",
    "df = load_data(\"active1000\")\n",
    "# matrix = load_dataset(df)\n",
    "\n",
    "import project_example as pe\n",
    "print(\"\\nRecommendation based on MF...\")\n",
    "pe.collaborative_filtering(df)\n",
    "# matrix"
   ]
  },
  {
   "cell_type": "code",
   "execution_count": null,
   "id": "98e33801",
   "metadata": {},
   "outputs": [],
   "source": []
  }
 ],
 "metadata": {
  "kernelspec": {
   "display_name": "Python 3 (ipykernel)",
   "language": "python",
   "name": "python3"
  },
  "language_info": {
   "codemirror_mode": {
    "name": "ipython",
    "version": 3
   },
   "file_extension": ".py",
   "mimetype": "text/x-python",
   "name": "python",
   "nbconvert_exporter": "python",
   "pygments_lexer": "ipython3",
   "version": "3.9.16"
  }
 },
 "nbformat": 4,
 "nbformat_minor": 5
}
